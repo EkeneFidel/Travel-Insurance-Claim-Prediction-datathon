{
  "nbformat": 4,
  "nbformat_minor": 0,
  "metadata": {
    "kernelspec": {
      "display_name": "Python 3",
      "language": "python",
      "name": "python3"
    },
    "language_info": {
      "codemirror_mode": {
        "name": "ipython",
        "version": 3
      },
      "file_extension": ".py",
      "mimetype": "text/x-python",
      "name": "python",
      "nbconvert_exporter": "python",
      "pygments_lexer": "ipython3",
      "version": "3.7.6"
    },
    "colab": {
      "name": "Datathon 1- Travel Insurance Claim Prediction.ipynb",
      "provenance": [],
      "toc_visible": true,
      "include_colab_link": true
    },
    "accelerator": "GPU"
  },
  "cells": [
    {
      "cell_type": "markdown",
      "metadata": {
        "id": "view-in-github",
        "colab_type": "text"
      },
      "source": [
        "<a href=\"https://colab.research.google.com/github/EkeneFidel/Travel-Insurance-Claim-Prediction/blob/main/Datathon_1_Travel_Insurance_Claim_Prediction.ipynb\" target=\"_parent\"><img src=\"https://colab.research.google.com/assets/colab-badge.svg\" alt=\"Open In Colab\"/></a>"
      ]
    },
    {
      "cell_type": "markdown",
      "metadata": {
        "id": "GG_2bJNtznle"
      },
      "source": [
        "### Load Libraries"
      ]
    },
    {
      "cell_type": "code",
      "metadata": {
        "id": "oqgZXUrlznl0"
      },
      "source": [
        "import pandas as pd   # package for data analysis\n",
        "import numpy as np    # package for numerical computations\n",
        "\n",
        "# libraries for visualization\n",
        "import matplotlib.pyplot as plt\n",
        "import seaborn as sns\n",
        "\n",
        "# to ignore warnings\n",
        "import warnings\n",
        "warnings.filterwarnings('ignore')\n",
        "\n",
        "# For Preprocessing, ML models and Evaluation\n",
        "from sklearn.model_selection import train_test_split   # To split the dataset into train and test set\n",
        "\n",
        "from sklearn.linear_model import LogisticRegression     # Logistic regression model\n",
        "\n",
        "from sklearn import preprocessing\n",
        "from sklearn.preprocessing import LabelEncoder    # for converting categorical to numerical\n",
        "\n",
        "from sklearn.metrics import f1_score    # for model evaluation"
      ],
      "execution_count": null,
      "outputs": []
    },
    {
      "cell_type": "markdown",
      "metadata": {
        "id": "D1JZvdTyznl2"
      },
      "source": [
        "### Load Data"
      ]
    },
    {
      "cell_type": "code",
      "metadata": {
        "id": "zxk0kXXTznl3"
      },
      "source": [
        "insurance_data  = pd.read_csv(\"https://raw.githubusercontent.com/dphi-official/Datasets/master/travel_insurance/Training_set_label.csv\" )"
      ],
      "execution_count": null,
      "outputs": []
    },
    {
      "cell_type": "code",
      "metadata": {
        "colab": {
          "base_uri": "https://localhost:8080/",
          "height": 289
        },
        "id": "J0SN7mD0znl5",
        "outputId": "6f8d2e4d-949c-47df-f114-3e5afb6d52a1"
      },
      "source": [
        "insurance_data.head()"
      ],
      "execution_count": null,
      "outputs": [
        {
          "output_type": "execute_result",
          "data": {
            "text/html": [
              "<div>\n",
              "<style scoped>\n",
              "    .dataframe tbody tr th:only-of-type {\n",
              "        vertical-align: middle;\n",
              "    }\n",
              "\n",
              "    .dataframe tbody tr th {\n",
              "        vertical-align: top;\n",
              "    }\n",
              "\n",
              "    .dataframe thead th {\n",
              "        text-align: right;\n",
              "    }\n",
              "</style>\n",
              "<table border=\"1\" class=\"dataframe\">\n",
              "  <thead>\n",
              "    <tr style=\"text-align: right;\">\n",
              "      <th></th>\n",
              "      <th>Agency</th>\n",
              "      <th>Agency Type</th>\n",
              "      <th>Distribution Channel</th>\n",
              "      <th>Product Name</th>\n",
              "      <th>Duration</th>\n",
              "      <th>Destination</th>\n",
              "      <th>Net Sales</th>\n",
              "      <th>Commision (in value)</th>\n",
              "      <th>Gender</th>\n",
              "      <th>Age</th>\n",
              "      <th>Claim</th>\n",
              "    </tr>\n",
              "  </thead>\n",
              "  <tbody>\n",
              "    <tr>\n",
              "      <th>0</th>\n",
              "      <td>CWT</td>\n",
              "      <td>Travel Agency</td>\n",
              "      <td>Online</td>\n",
              "      <td>Rental Vehicle Excess Insurance</td>\n",
              "      <td>61</td>\n",
              "      <td>UNITED KINGDOM</td>\n",
              "      <td>19.8</td>\n",
              "      <td>11.88</td>\n",
              "      <td>NaN</td>\n",
              "      <td>29</td>\n",
              "      <td>0</td>\n",
              "    </tr>\n",
              "    <tr>\n",
              "      <th>1</th>\n",
              "      <td>EPX</td>\n",
              "      <td>Travel Agency</td>\n",
              "      <td>Online</td>\n",
              "      <td>Cancellation Plan</td>\n",
              "      <td>93</td>\n",
              "      <td>NEW ZEALAND</td>\n",
              "      <td>63.0</td>\n",
              "      <td>0.00</td>\n",
              "      <td>NaN</td>\n",
              "      <td>36</td>\n",
              "      <td>0</td>\n",
              "    </tr>\n",
              "    <tr>\n",
              "      <th>2</th>\n",
              "      <td>EPX</td>\n",
              "      <td>Travel Agency</td>\n",
              "      <td>Online</td>\n",
              "      <td>2 way Comprehensive Plan</td>\n",
              "      <td>22</td>\n",
              "      <td>UNITED STATES</td>\n",
              "      <td>22.0</td>\n",
              "      <td>0.00</td>\n",
              "      <td>NaN</td>\n",
              "      <td>25</td>\n",
              "      <td>0</td>\n",
              "    </tr>\n",
              "    <tr>\n",
              "      <th>3</th>\n",
              "      <td>C2B</td>\n",
              "      <td>Airlines</td>\n",
              "      <td>Online</td>\n",
              "      <td>Silver Plan</td>\n",
              "      <td>14</td>\n",
              "      <td>SINGAPORE</td>\n",
              "      <td>54.5</td>\n",
              "      <td>13.63</td>\n",
              "      <td>M</td>\n",
              "      <td>24</td>\n",
              "      <td>0</td>\n",
              "    </tr>\n",
              "    <tr>\n",
              "      <th>4</th>\n",
              "      <td>EPX</td>\n",
              "      <td>Travel Agency</td>\n",
              "      <td>Online</td>\n",
              "      <td>Cancellation Plan</td>\n",
              "      <td>90</td>\n",
              "      <td>VIET NAM</td>\n",
              "      <td>10.0</td>\n",
              "      <td>0.00</td>\n",
              "      <td>NaN</td>\n",
              "      <td>23</td>\n",
              "      <td>0</td>\n",
              "    </tr>\n",
              "  </tbody>\n",
              "</table>\n",
              "</div>"
            ],
            "text/plain": [
              "  Agency    Agency Type Distribution Channel  ... Gender  Age Claim\n",
              "0    CWT  Travel Agency               Online  ...    NaN   29     0\n",
              "1    EPX  Travel Agency               Online  ...    NaN   36     0\n",
              "2    EPX  Travel Agency               Online  ...    NaN   25     0\n",
              "3    C2B       Airlines               Online  ...      M   24     0\n",
              "4    EPX  Travel Agency               Online  ...    NaN   23     0\n",
              "\n",
              "[5 rows x 11 columns]"
            ]
          },
          "metadata": {
            "tags": []
          },
          "execution_count": 9
        }
      ]
    },
    {
      "cell_type": "code",
      "metadata": {
        "colab": {
          "base_uri": "https://localhost:8080/"
        },
        "id": "0Tn-iOJDznl6",
        "outputId": "72b3f8fb-7411-4ece-c6e3-a5a32e3f6dc1"
      },
      "source": [
        "insurance_data.info()"
      ],
      "execution_count": null,
      "outputs": [
        {
          "output_type": "stream",
          "text": [
            "<class 'pandas.core.frame.DataFrame'>\n",
            "RangeIndex: 48260 entries, 0 to 48259\n",
            "Data columns (total 11 columns):\n",
            " #   Column                Non-Null Count  Dtype  \n",
            "---  ------                --------------  -----  \n",
            " 0   Agency                48260 non-null  object \n",
            " 1   Agency Type           48260 non-null  object \n",
            " 2   Distribution Channel  48260 non-null  object \n",
            " 3   Product Name          48260 non-null  object \n",
            " 4   Duration              48260 non-null  int64  \n",
            " 5   Destination           48260 non-null  object \n",
            " 6   Net Sales             48260 non-null  float64\n",
            " 7   Commision (in value)  48260 non-null  float64\n",
            " 8   Gender                13899 non-null  object \n",
            " 9   Age                   48260 non-null  int64  \n",
            " 10  Claim                 48260 non-null  int64  \n",
            "dtypes: float64(2), int64(3), object(6)\n",
            "memory usage: 4.1+ MB\n"
          ],
          "name": "stdout"
        }
      ]
    },
    {
      "cell_type": "code",
      "metadata": {
        "colab": {
          "base_uri": "https://localhost:8080/",
          "height": 297
        },
        "id": "1HmfRiOcznl6",
        "outputId": "39189cef-06f6-4e30-d968-69eb85142a6e"
      },
      "source": [
        "insurance_data.describe()"
      ],
      "execution_count": null,
      "outputs": [
        {
          "output_type": "execute_result",
          "data": {
            "text/html": [
              "<div>\n",
              "<style scoped>\n",
              "    .dataframe tbody tr th:only-of-type {\n",
              "        vertical-align: middle;\n",
              "    }\n",
              "\n",
              "    .dataframe tbody tr th {\n",
              "        vertical-align: top;\n",
              "    }\n",
              "\n",
              "    .dataframe thead th {\n",
              "        text-align: right;\n",
              "    }\n",
              "</style>\n",
              "<table border=\"1\" class=\"dataframe\">\n",
              "  <thead>\n",
              "    <tr style=\"text-align: right;\">\n",
              "      <th></th>\n",
              "      <th>Duration</th>\n",
              "      <th>Net Sales</th>\n",
              "      <th>Commision (in value)</th>\n",
              "      <th>Age</th>\n",
              "      <th>Claim</th>\n",
              "    </tr>\n",
              "  </thead>\n",
              "  <tbody>\n",
              "    <tr>\n",
              "      <th>count</th>\n",
              "      <td>48260.000000</td>\n",
              "      <td>48260.000000</td>\n",
              "      <td>48260.000000</td>\n",
              "      <td>48260.000000</td>\n",
              "      <td>48260.000000</td>\n",
              "    </tr>\n",
              "    <tr>\n",
              "      <th>mean</th>\n",
              "      <td>49.546602</td>\n",
              "      <td>40.747647</td>\n",
              "      <td>9.811735</td>\n",
              "      <td>39.927269</td>\n",
              "      <td>0.014671</td>\n",
              "    </tr>\n",
              "    <tr>\n",
              "      <th>std</th>\n",
              "      <td>104.828147</td>\n",
              "      <td>48.823217</td>\n",
              "      <td>19.695339</td>\n",
              "      <td>14.027329</td>\n",
              "      <td>0.120231</td>\n",
              "    </tr>\n",
              "    <tr>\n",
              "      <th>min</th>\n",
              "      <td>-2.000000</td>\n",
              "      <td>-389.000000</td>\n",
              "      <td>0.000000</td>\n",
              "      <td>0.000000</td>\n",
              "      <td>0.000000</td>\n",
              "    </tr>\n",
              "    <tr>\n",
              "      <th>25%</th>\n",
              "      <td>9.000000</td>\n",
              "      <td>18.000000</td>\n",
              "      <td>0.000000</td>\n",
              "      <td>35.000000</td>\n",
              "      <td>0.000000</td>\n",
              "    </tr>\n",
              "    <tr>\n",
              "      <th>50%</th>\n",
              "      <td>22.000000</td>\n",
              "      <td>27.000000</td>\n",
              "      <td>0.000000</td>\n",
              "      <td>36.000000</td>\n",
              "      <td>0.000000</td>\n",
              "    </tr>\n",
              "    <tr>\n",
              "      <th>75%</th>\n",
              "      <td>53.000000</td>\n",
              "      <td>48.000000</td>\n",
              "      <td>11.630000</td>\n",
              "      <td>43.000000</td>\n",
              "      <td>0.000000</td>\n",
              "    </tr>\n",
              "    <tr>\n",
              "      <th>max</th>\n",
              "      <td>4881.000000</td>\n",
              "      <td>666.000000</td>\n",
              "      <td>262.760000</td>\n",
              "      <td>118.000000</td>\n",
              "      <td>1.000000</td>\n",
              "    </tr>\n",
              "  </tbody>\n",
              "</table>\n",
              "</div>"
            ],
            "text/plain": [
              "           Duration     Net Sales  ...           Age         Claim\n",
              "count  48260.000000  48260.000000  ...  48260.000000  48260.000000\n",
              "mean      49.546602     40.747647  ...     39.927269      0.014671\n",
              "std      104.828147     48.823217  ...     14.027329      0.120231\n",
              "min       -2.000000   -389.000000  ...      0.000000      0.000000\n",
              "25%        9.000000     18.000000  ...     35.000000      0.000000\n",
              "50%       22.000000     27.000000  ...     36.000000      0.000000\n",
              "75%       53.000000     48.000000  ...     43.000000      0.000000\n",
              "max     4881.000000    666.000000  ...    118.000000      1.000000\n",
              "\n",
              "[8 rows x 5 columns]"
            ]
          },
          "metadata": {
            "tags": []
          },
          "execution_count": 11
        }
      ]
    },
    {
      "cell_type": "markdown",
      "metadata": {
        "id": "T1xY8iX9znl7"
      },
      "source": [
        "### EDA & Data Preprocessing"
      ]
    },
    {
      "cell_type": "code",
      "metadata": {
        "colab": {
          "base_uri": "https://localhost:8080/",
          "height": 296
        },
        "id": "04NHHphgznl8",
        "outputId": "426485a6-9ad1-415a-d3c5-8515f349d687"
      },
      "source": [
        "sns.countplot(insurance_data['Claim'])"
      ],
      "execution_count": null,
      "outputs": [
        {
          "output_type": "execute_result",
          "data": {
            "text/plain": [
              "<matplotlib.axes._subplots.AxesSubplot at 0x7f8ff7ff0c18>"
            ]
          },
          "metadata": {
            "tags": []
          },
          "execution_count": 12
        },
        {
          "output_type": "display_data",
          "data": {
            "image/png": "[encoded data removed]",
            "text/plain": [
              "<Figure size 432x288 with 1 Axes>"
            ]
          },
          "metadata": {
            "tags": [],
            "needs_background": "light"
          }
        }
      ]
    },
    {
      "cell_type": "code",
      "metadata": {
        "colab": {
          "base_uri": "https://localhost:8080/"
        },
        "id": "R7wxd4Doznl8",
        "outputId": "56a2535b-9d36-4655-a15e-24efa6b03d9e"
      },
      "source": [
        "insurance_data.isnull().sum()"
      ],
      "execution_count": null,
      "outputs": [
        {
          "output_type": "execute_result",
          "data": {
            "text/plain": [
              "Agency                      0\n",
              "Agency Type                 0\n",
              "Distribution Channel        0\n",
              "Product Name                0\n",
              "Duration                    0\n",
              "Destination                 0\n",
              "Net Sales                   0\n",
              "Commision (in value)        0\n",
              "Gender                  34361\n",
              "Age                         0\n",
              "Claim                       0\n",
              "dtype: int64"
            ]
          },
          "metadata": {
            "tags": []
          },
          "execution_count": 13
        }
      ]
    },
    {
      "cell_type": "code",
      "metadata": {
        "id": "Fqb8j2LJznl9"
      },
      "source": [
        "insurance_data['Gender']=insurance_data['Gender'].fillna(insurance_data['Gender'].mode()[0])"
      ],
      "execution_count": null,
      "outputs": []
    },
    {
      "cell_type": "code",
      "metadata": {
        "id": "i3dsQkQpznl9"
      },
      "source": [
        "X = insurance_data.drop(\"Claim\", axis = 1)\n",
        "y = insurance_data[\"Claim\"]"
      ],
      "execution_count": null,
      "outputs": []
    },
    {
      "cell_type": "code",
      "metadata": {
        "colab": {
          "base_uri": "https://localhost:8080/",
          "height": 289
        },
        "id": "tEAkdjs9znl-",
        "outputId": "624602ae-2242-426e-fa6d-b1d20f1df7a5"
      },
      "source": [
        "X.head()"
      ],
      "execution_count": null,
      "outputs": [
        {
          "output_type": "execute_result",
          "data": {
            "text/html": [
              "<div>\n",
              "<style scoped>\n",
              "    .dataframe tbody tr th:only-of-type {\n",
              "        vertical-align: middle;\n",
              "    }\n",
              "\n",
              "    .dataframe tbody tr th {\n",
              "        vertical-align: top;\n",
              "    }\n",
              "\n",
              "    .dataframe thead th {\n",
              "        text-align: right;\n",
              "    }\n",
              "</style>\n",
              "<table border=\"1\" class=\"dataframe\">\n",
              "  <thead>\n",
              "    <tr style=\"text-align: right;\">\n",
              "      <th></th>\n",
              "      <th>Agency</th>\n",
              "      <th>Agency Type</th>\n",
              "      <th>Distribution Channel</th>\n",
              "      <th>Product Name</th>\n",
              "      <th>Duration</th>\n",
              "      <th>Destination</th>\n",
              "      <th>Net Sales</th>\n",
              "      <th>Commision (in value)</th>\n",
              "      <th>Gender</th>\n",
              "      <th>Age</th>\n",
              "    </tr>\n",
              "  </thead>\n",
              "  <tbody>\n",
              "    <tr>\n",
              "      <th>0</th>\n",
              "      <td>CWT</td>\n",
              "      <td>Travel Agency</td>\n",
              "      <td>Online</td>\n",
              "      <td>Rental Vehicle Excess Insurance</td>\n",
              "      <td>61</td>\n",
              "      <td>UNITED KINGDOM</td>\n",
              "      <td>19.8</td>\n",
              "      <td>11.88</td>\n",
              "      <td>M</td>\n",
              "      <td>29</td>\n",
              "    </tr>\n",
              "    <tr>\n",
              "      <th>1</th>\n",
              "      <td>EPX</td>\n",
              "      <td>Travel Agency</td>\n",
              "      <td>Online</td>\n",
              "      <td>Cancellation Plan</td>\n",
              "      <td>93</td>\n",
              "      <td>NEW ZEALAND</td>\n",
              "      <td>63.0</td>\n",
              "      <td>0.00</td>\n",
              "      <td>M</td>\n",
              "      <td>36</td>\n",
              "    </tr>\n",
              "    <tr>\n",
              "      <th>2</th>\n",
              "      <td>EPX</td>\n",
              "      <td>Travel Agency</td>\n",
              "      <td>Online</td>\n",
              "      <td>2 way Comprehensive Plan</td>\n",
              "      <td>22</td>\n",
              "      <td>UNITED STATES</td>\n",
              "      <td>22.0</td>\n",
              "      <td>0.00</td>\n",
              "      <td>M</td>\n",
              "      <td>25</td>\n",
              "    </tr>\n",
              "    <tr>\n",
              "      <th>3</th>\n",
              "      <td>C2B</td>\n",
              "      <td>Airlines</td>\n",
              "      <td>Online</td>\n",
              "      <td>Silver Plan</td>\n",
              "      <td>14</td>\n",
              "      <td>SINGAPORE</td>\n",
              "      <td>54.5</td>\n",
              "      <td>13.63</td>\n",
              "      <td>M</td>\n",
              "      <td>24</td>\n",
              "    </tr>\n",
              "    <tr>\n",
              "      <th>4</th>\n",
              "      <td>EPX</td>\n",
              "      <td>Travel Agency</td>\n",
              "      <td>Online</td>\n",
              "      <td>Cancellation Plan</td>\n",
              "      <td>90</td>\n",
              "      <td>VIET NAM</td>\n",
              "      <td>10.0</td>\n",
              "      <td>0.00</td>\n",
              "      <td>M</td>\n",
              "      <td>23</td>\n",
              "    </tr>\n",
              "  </tbody>\n",
              "</table>\n",
              "</div>"
            ],
            "text/plain": [
              "  Agency    Agency Type Distribution Channel  ... Commision (in value)  Gender Age\n",
              "0    CWT  Travel Agency               Online  ...                11.88       M  29\n",
              "1    EPX  Travel Agency               Online  ...                 0.00       M  36\n",
              "2    EPX  Travel Agency               Online  ...                 0.00       M  25\n",
              "3    C2B       Airlines               Online  ...                13.63       M  24\n",
              "4    EPX  Travel Agency               Online  ...                 0.00       M  23\n",
              "\n",
              "[5 rows x 10 columns]"
            ]
          },
          "metadata": {
            "tags": []
          },
          "execution_count": 16
        }
      ]
    },
    {
      "cell_type": "code",
      "metadata": {
        "colab": {
          "base_uri": "https://localhost:8080/"
        },
        "id": "yVZEKjJMznl-",
        "outputId": "fdf90b4a-5419-4104-df3a-165fef505183"
      },
      "source": [
        "X.isnull().sum()"
      ],
      "execution_count": null,
      "outputs": [
        {
          "output_type": "execute_result",
          "data": {
            "text/plain": [
              "Agency                  0\n",
              "Agency Type             0\n",
              "Distribution Channel    0\n",
              "Product Name            0\n",
              "Duration                0\n",
              "Destination             0\n",
              "Net Sales               0\n",
              "Commision (in value)    0\n",
              "Gender                  0\n",
              "Age                     0\n",
              "dtype: int64"
            ]
          },
          "metadata": {
            "tags": []
          },
          "execution_count": 17
        }
      ]
    },
    {
      "cell_type": "code",
      "metadata": {
        "colab": {
          "base_uri": "https://localhost:8080/"
        },
        "id": "A5ft7rljznl_",
        "outputId": "ee12ab5e-f3fd-42c1-9b56-73c2f87d675b"
      },
      "source": [
        "X_numerical = X._get_numeric_data()\n",
        "X_numerical.info()"
      ],
      "execution_count": null,
      "outputs": [
        {
          "output_type": "stream",
          "text": [
            "<class 'pandas.core.frame.DataFrame'>\n",
            "RangeIndex: 48260 entries, 0 to 48259\n",
            "Data columns (total 4 columns):\n",
            " #   Column                Non-Null Count  Dtype  \n",
            "---  ------                --------------  -----  \n",
            " 0   Duration              48260 non-null  int64  \n",
            " 1   Net Sales             48260 non-null  float64\n",
            " 2   Commision (in value)  48260 non-null  float64\n",
            " 3   Age                   48260 non-null  int64  \n",
            "dtypes: float64(2), int64(2)\n",
            "memory usage: 1.5 MB\n"
          ],
          "name": "stdout"
        }
      ]
    },
    {
      "cell_type": "code",
      "metadata": {
        "colab": {
          "base_uri": "https://localhost:8080/",
          "height": 1000
        },
        "id": "1E-xqRGrznl_",
        "outputId": "07ede2fa-54a7-43fa-c56e-76dafcbd9792"
      },
      "source": [
        "for i, col in enumerate(X_numerical.columns):\n",
        "    plt.figure(i)\n",
        "    sns.distplot(X_numerical[col])"
      ],
      "execution_count": null,
      "outputs": [
        {
          "output_type": "display_data",
          "data": {
            "image/png": "[encoded data removed]",
            "text/plain": [
              "<Figure size 432x288 with 1 Axes>"
            ]
          },
          "metadata": {
            "tags": [],
            "needs_background": "light"
          }
        },
        {
          "output_type": "display_data",
          "data": {
            "image/png": "[encoded data removed]",
            "text/plain": [
              "<Figure size 432x288 with 1 Axes>"
            ]
          },
          "metadata": {
            "tags": [],
            "needs_background": "light"
          }
        },
        {
          "output_type": "display_data",
          "data": {
            "image/png": "[encoded data removed]",
            "text/plain": [
              "<Figure size 432x288 with 1 Axes>"
            ]
          },
          "metadata": {
            "tags": [],
            "needs_background": "light"
          }
        },
        {
          "output_type": "display_data",
          "data": {
            "image/png": "[encoded data removed]",
            "text/plain": [
              "<Figure size 432x288 with 1 Axes>"
            ]
          },
          "metadata": {
            "tags": [],
            "needs_background": "light"
          }
        }
      ]
    },
    {
      "cell_type": "code",
      "metadata": {
        "colab": {
          "base_uri": "https://localhost:8080/"
        },
        "id": "ftAPi8VVznmB",
        "outputId": "245fc459-1b3a-4e09-e157-f66424cbfa73"
      },
      "source": [
        "X['Duration'].describe()"
      ],
      "execution_count": null,
      "outputs": [
        {
          "output_type": "execute_result",
          "data": {
            "text/plain": [
              "count    48260.000000\n",
              "mean        49.546602\n",
              "std        104.828147\n",
              "min         -2.000000\n",
              "25%          9.000000\n",
              "50%         22.000000\n",
              "75%         53.000000\n",
              "max       4881.000000\n",
              "Name: Duration, dtype: float64"
            ]
          },
          "metadata": {
            "tags": []
          },
          "execution_count": 20
        }
      ]
    },
    {
      "cell_type": "code",
      "metadata": {
        "colab": {
          "base_uri": "https://localhost:8080/"
        },
        "id": "36I09jyFznmB",
        "outputId": "01a117b8-5199-4866-dc08-f1c221d4aadf"
      },
      "source": [
        "df10=X['Duration']<0\n",
        "df10.sum()"
      ],
      "execution_count": null,
      "outputs": [
        {
          "output_type": "execute_result",
          "data": {
            "text/plain": [
              "3"
            ]
          },
          "metadata": {
            "tags": []
          },
          "execution_count": 21
        }
      ]
    },
    {
      "cell_type": "code",
      "metadata": {
        "id": "6jFAq0vTznmC"
      },
      "source": [
        "X.loc[X['Duration'] < 0, 'Duration'] = X['Duration'].mean()"
      ],
      "execution_count": null,
      "outputs": []
    },
    {
      "cell_type": "code",
      "metadata": {
        "colab": {
          "base_uri": "https://localhost:8080/"
        },
        "id": "pBjDiXJRznmC",
        "outputId": "55096d73-fb20-428b-f11c-0705e0cc268d"
      },
      "source": [
        "df6= X['Net Sales']<X['Commision (in value)']\n",
        "df6.sum()"
      ],
      "execution_count": null,
      "outputs": [
        {
          "output_type": "execute_result",
          "data": {
            "text/plain": [
              "1539"
            ]
          },
          "metadata": {
            "tags": []
          },
          "execution_count": 23
        }
      ]
    },
    {
      "cell_type": "code",
      "metadata": {
        "id": "EloNouU6znmC"
      },
      "source": [
        "X.loc[X['Net Sales'] == 0.0, 'Commision (in value)'] = 0"
      ],
      "execution_count": null,
      "outputs": []
    },
    {
      "cell_type": "code",
      "metadata": {
        "id": "GnZxfo9sznmD"
      },
      "source": [
        "X_categorical = X.select_dtypes(exclude=[np.number])"
      ],
      "execution_count": null,
      "outputs": []
    },
    {
      "cell_type": "code",
      "metadata": {
        "colab": {
          "base_uri": "https://localhost:8080/"
        },
        "id": "aiiYywIHznmD",
        "outputId": "47a9dfbd-b3f8-4de8-fbcb-3a3f6df2ba9d"
      },
      "source": [
        "X_categorical.info()"
      ],
      "execution_count": null,
      "outputs": [
        {
          "output_type": "stream",
          "text": [
            "<class 'pandas.core.frame.DataFrame'>\n",
            "RangeIndex: 48260 entries, 0 to 48259\n",
            "Data columns (total 6 columns):\n",
            " #   Column                Non-Null Count  Dtype \n",
            "---  ------                --------------  ----- \n",
            " 0   Agency                48260 non-null  object\n",
            " 1   Agency Type           48260 non-null  object\n",
            " 2   Distribution Channel  48260 non-null  object\n",
            " 3   Product Name          48260 non-null  object\n",
            " 4   Destination           48260 non-null  object\n",
            " 5   Gender                48260 non-null  object\n",
            "dtypes: object(6)\n",
            "memory usage: 2.2+ MB\n"
          ],
          "name": "stdout"
        }
      ]
    },
    {
      "cell_type": "code",
      "metadata": {
        "colab": {
          "base_uri": "https://localhost:8080/"
        },
        "id": "eksvngtNznmD",
        "outputId": "b8932183-4900-40c7-c000-1c9314d81927"
      },
      "source": [
        "X['Age'].describe()"
      ],
      "execution_count": null,
      "outputs": [
        {
          "output_type": "execute_result",
          "data": {
            "text/plain": [
              "count    48260.000000\n",
              "mean        39.927269\n",
              "std         14.027329\n",
              "min          0.000000\n",
              "25%         35.000000\n",
              "50%         36.000000\n",
              "75%         43.000000\n",
              "max        118.000000\n",
              "Name: Age, dtype: float64"
            ]
          },
          "metadata": {
            "tags": []
          },
          "execution_count": 27
        }
      ]
    },
    {
      "cell_type": "code",
      "metadata": {
        "id": "YyjRJzbPznmE"
      },
      "source": [
        "X.loc[X['Age'] > 100, 'Age'] = X['Age'].mean()"
      ],
      "execution_count": null,
      "outputs": []
    },
    {
      "cell_type": "code",
      "metadata": {
        "colab": {
          "base_uri": "https://localhost:8080/"
        },
        "id": "LKrGyDNFznmE",
        "outputId": "83e0ddc2-8a8d-4686-ef8b-ec6d8d2b9f2a"
      },
      "source": [
        "X['Age'].describe()"
      ],
      "execution_count": null,
      "outputs": [
        {
          "output_type": "execute_result",
          "data": {
            "text/plain": [
              "count    48260.000000\n",
              "mean        38.709101\n",
              "std         10.008714\n",
              "min          0.000000\n",
              "25%         35.000000\n",
              "50%         36.000000\n",
              "75%         42.000000\n",
              "max         88.000000\n",
              "Name: Age, dtype: float64"
            ]
          },
          "metadata": {
            "tags": []
          },
          "execution_count": 29
        }
      ]
    },
    {
      "cell_type": "code",
      "metadata": {
        "colab": {
          "base_uri": "https://localhost:8080/",
          "height": 365
        },
        "id": "VHgmVL_NznmF",
        "outputId": "eb650b92-d58b-483d-b62e-47580970eb65"
      },
      "source": [
        "corr_matrix = X_numerical.corr()\n",
        "sns.heatmap(corr_matrix, annot=True)\n",
        "plt.show()"
      ],
      "execution_count": null,
      "outputs": [
        {
          "output_type": "display_data",
          "data": {
            "image/png": "[encoded data removed]",
            "text/plain": [
              "<Figure size 432x288 with 2 Axes>"
            ]
          },
          "metadata": {
            "tags": [],
            "needs_background": "light"
          }
        }
      ]
    },
    {
      "cell_type": "code",
      "metadata": {
        "id": "M48fqwl4znmF"
      },
      "source": [
        "X['Gender'].replace(to_replace=['F','M'], value=[0,1],inplace=True)"
      ],
      "execution_count": null,
      "outputs": []
    },
    {
      "cell_type": "code",
      "metadata": {
        "colab": {
          "base_uri": "https://localhost:8080/"
        },
        "id": "qcdOHnp7znmG",
        "outputId": "588312cb-265d-4e59-b14f-d366d7b9107d"
      },
      "source": [
        "X.columns"
      ],
      "execution_count": null,
      "outputs": [
        {
          "output_type": "execute_result",
          "data": {
            "text/plain": [
              "Index(['Agency', 'Agency Type', 'Distribution Channel', 'Product Name',\n",
              "       'Duration', 'Destination', 'Net Sales', 'Commision (in value)',\n",
              "       'Gender', 'Age'],\n",
              "      dtype='object')"
            ]
          },
          "metadata": {
            "tags": []
          },
          "execution_count": 32
        }
      ]
    },
    {
      "cell_type": "code",
      "metadata": {
        "id": "fNHOyctbznmG"
      },
      "source": [
        "X_extension = pd.get_dummies(X['Distribution Channel'])"
      ],
      "execution_count": null,
      "outputs": []
    },
    {
      "cell_type": "code",
      "metadata": {
        "id": "xgGOh28pznmG"
      },
      "source": [
        "X = pd.concat([X, X_extension], axis=1)"
      ],
      "execution_count": null,
      "outputs": []
    },
    {
      "cell_type": "code",
      "metadata": {
        "colab": {
          "base_uri": "https://localhost:8080/",
          "height": 289
        },
        "id": "COVVl8NcznmH",
        "outputId": "814457d8-62c1-49cd-95be-fd64dcb7ec70"
      },
      "source": [
        "X.drop('Distribution Channel', inplace=True, axis=1)\n",
        "X.head()"
      ],
      "execution_count": null,
      "outputs": [
        {
          "output_type": "execute_result",
          "data": {
            "text/html": [
              "<div>\n",
              "<style scoped>\n",
              "    .dataframe tbody tr th:only-of-type {\n",
              "        vertical-align: middle;\n",
              "    }\n",
              "\n",
              "    .dataframe tbody tr th {\n",
              "        vertical-align: top;\n",
              "    }\n",
              "\n",
              "    .dataframe thead th {\n",
              "        text-align: right;\n",
              "    }\n",
              "</style>\n",
              "<table border=\"1\" class=\"dataframe\">\n",
              "  <thead>\n",
              "    <tr style=\"text-align: right;\">\n",
              "      <th></th>\n",
              "      <th>Agency</th>\n",
              "      <th>Agency Type</th>\n",
              "      <th>Product Name</th>\n",
              "      <th>Duration</th>\n",
              "      <th>Destination</th>\n",
              "      <th>Net Sales</th>\n",
              "      <th>Commision (in value)</th>\n",
              "      <th>Gender</th>\n",
              "      <th>Age</th>\n",
              "      <th>Offline</th>\n",
              "      <th>Online</th>\n",
              "    </tr>\n",
              "  </thead>\n",
              "  <tbody>\n",
              "    <tr>\n",
              "      <th>0</th>\n",
              "      <td>CWT</td>\n",
              "      <td>Travel Agency</td>\n",
              "      <td>Rental Vehicle Excess Insurance</td>\n",
              "      <td>61.0</td>\n",
              "      <td>UNITED KINGDOM</td>\n",
              "      <td>19.8</td>\n",
              "      <td>11.88</td>\n",
              "      <td>1</td>\n",
              "      <td>29.0</td>\n",
              "      <td>0</td>\n",
              "      <td>1</td>\n",
              "    </tr>\n",
              "    <tr>\n",
              "      <th>1</th>\n",
              "      <td>EPX</td>\n",
              "      <td>Travel Agency</td>\n",
              "      <td>Cancellation Plan</td>\n",
              "      <td>93.0</td>\n",
              "      <td>NEW ZEALAND</td>\n",
              "      <td>63.0</td>\n",
              "      <td>0.00</td>\n",
              "      <td>1</td>\n",
              "      <td>36.0</td>\n",
              "      <td>0</td>\n",
              "      <td>1</td>\n",
              "    </tr>\n",
              "    <tr>\n",
              "      <th>2</th>\n",
              "      <td>EPX</td>\n",
              "      <td>Travel Agency</td>\n",
              "      <td>2 way Comprehensive Plan</td>\n",
              "      <td>22.0</td>\n",
              "      <td>UNITED STATES</td>\n",
              "      <td>22.0</td>\n",
              "      <td>0.00</td>\n",
              "      <td>1</td>\n",
              "      <td>25.0</td>\n",
              "      <td>0</td>\n",
              "      <td>1</td>\n",
              "    </tr>\n",
              "    <tr>\n",
              "      <th>3</th>\n",
              "      <td>C2B</td>\n",
              "      <td>Airlines</td>\n",
              "      <td>Silver Plan</td>\n",
              "      <td>14.0</td>\n",
              "      <td>SINGAPORE</td>\n",
              "      <td>54.5</td>\n",
              "      <td>13.63</td>\n",
              "      <td>1</td>\n",
              "      <td>24.0</td>\n",
              "      <td>0</td>\n",
              "      <td>1</td>\n",
              "    </tr>\n",
              "    <tr>\n",
              "      <th>4</th>\n",
              "      <td>EPX</td>\n",
              "      <td>Travel Agency</td>\n",
              "      <td>Cancellation Plan</td>\n",
              "      <td>90.0</td>\n",
              "      <td>VIET NAM</td>\n",
              "      <td>10.0</td>\n",
              "      <td>0.00</td>\n",
              "      <td>1</td>\n",
              "      <td>23.0</td>\n",
              "      <td>0</td>\n",
              "      <td>1</td>\n",
              "    </tr>\n",
              "  </tbody>\n",
              "</table>\n",
              "</div>"
            ],
            "text/plain": [
              "  Agency    Agency Type                     Product Name  ...   Age Offline  Online\n",
              "0    CWT  Travel Agency  Rental Vehicle Excess Insurance  ...  29.0       0       1\n",
              "1    EPX  Travel Agency                Cancellation Plan  ...  36.0       0       1\n",
              "2    EPX  Travel Agency         2 way Comprehensive Plan  ...  25.0       0       1\n",
              "3    C2B       Airlines                      Silver Plan  ...  24.0       0       1\n",
              "4    EPX  Travel Agency                Cancellation Plan  ...  23.0       0       1\n",
              "\n",
              "[5 rows x 11 columns]"
            ]
          },
          "metadata": {
            "tags": []
          },
          "execution_count": 35
        }
      ]
    },
    {
      "cell_type": "code",
      "metadata": {
        "colab": {
          "base_uri": "https://localhost:8080/",
          "height": 272
        },
        "id": "tCKG_3pkznmH",
        "outputId": "b8629c38-2d86-4e49-8d63-603d2b79191e"
      },
      "source": [
        "X_extension = pd.get_dummies(X['Agency Type'])\n",
        "X = pd.concat([X, X_extension], axis=1)\n",
        "X.drop('Agency Type', inplace=True, axis=1)\n",
        "X.head()"
      ],
      "execution_count": null,
      "outputs": [
        {
          "output_type": "execute_result",
          "data": {
            "text/html": [
              "<div>\n",
              "<style scoped>\n",
              "    .dataframe tbody tr th:only-of-type {\n",
              "        vertical-align: middle;\n",
              "    }\n",
              "\n",
              "    .dataframe tbody tr th {\n",
              "        vertical-align: top;\n",
              "    }\n",
              "\n",
              "    .dataframe thead th {\n",
              "        text-align: right;\n",
              "    }\n",
              "</style>\n",
              "<table border=\"1\" class=\"dataframe\">\n",
              "  <thead>\n",
              "    <tr style=\"text-align: right;\">\n",
              "      <th></th>\n",
              "      <th>Agency</th>\n",
              "      <th>Product Name</th>\n",
              "      <th>Duration</th>\n",
              "      <th>Destination</th>\n",
              "      <th>Net Sales</th>\n",
              "      <th>Commision (in value)</th>\n",
              "      <th>Gender</th>\n",
              "      <th>Age</th>\n",
              "      <th>Offline</th>\n",
              "      <th>Online</th>\n",
              "      <th>Airlines</th>\n",
              "      <th>Travel Agency</th>\n",
              "    </tr>\n",
              "  </thead>\n",
              "  <tbody>\n",
              "    <tr>\n",
              "      <th>0</th>\n",
              "      <td>CWT</td>\n",
              "      <td>Rental Vehicle Excess Insurance</td>\n",
              "      <td>61.0</td>\n",
              "      <td>UNITED KINGDOM</td>\n",
              "      <td>19.8</td>\n",
              "      <td>11.88</td>\n",
              "      <td>1</td>\n",
              "      <td>29.0</td>\n",
              "      <td>0</td>\n",
              "      <td>1</td>\n",
              "      <td>0</td>\n",
              "      <td>1</td>\n",
              "    </tr>\n",
              "    <tr>\n",
              "      <th>1</th>\n",
              "      <td>EPX</td>\n",
              "      <td>Cancellation Plan</td>\n",
              "      <td>93.0</td>\n",
              "      <td>NEW ZEALAND</td>\n",
              "      <td>63.0</td>\n",
              "      <td>0.00</td>\n",
              "      <td>1</td>\n",
              "      <td>36.0</td>\n",
              "      <td>0</td>\n",
              "      <td>1</td>\n",
              "      <td>0</td>\n",
              "      <td>1</td>\n",
              "    </tr>\n",
              "    <tr>\n",
              "      <th>2</th>\n",
              "      <td>EPX</td>\n",
              "      <td>2 way Comprehensive Plan</td>\n",
              "      <td>22.0</td>\n",
              "      <td>UNITED STATES</td>\n",
              "      <td>22.0</td>\n",
              "      <td>0.00</td>\n",
              "      <td>1</td>\n",
              "      <td>25.0</td>\n",
              "      <td>0</td>\n",
              "      <td>1</td>\n",
              "      <td>0</td>\n",
              "      <td>1</td>\n",
              "    </tr>\n",
              "    <tr>\n",
              "      <th>3</th>\n",
              "      <td>C2B</td>\n",
              "      <td>Silver Plan</td>\n",
              "      <td>14.0</td>\n",
              "      <td>SINGAPORE</td>\n",
              "      <td>54.5</td>\n",
              "      <td>13.63</td>\n",
              "      <td>1</td>\n",
              "      <td>24.0</td>\n",
              "      <td>0</td>\n",
              "      <td>1</td>\n",
              "      <td>1</td>\n",
              "      <td>0</td>\n",
              "    </tr>\n",
              "    <tr>\n",
              "      <th>4</th>\n",
              "      <td>EPX</td>\n",
              "      <td>Cancellation Plan</td>\n",
              "      <td>90.0</td>\n",
              "      <td>VIET NAM</td>\n",
              "      <td>10.0</td>\n",
              "      <td>0.00</td>\n",
              "      <td>1</td>\n",
              "      <td>23.0</td>\n",
              "      <td>0</td>\n",
              "      <td>1</td>\n",
              "      <td>0</td>\n",
              "      <td>1</td>\n",
              "    </tr>\n",
              "  </tbody>\n",
              "</table>\n",
              "</div>"
            ],
            "text/plain": [
              "  Agency                     Product Name  ...  Airlines Travel Agency\n",
              "0    CWT  Rental Vehicle Excess Insurance  ...         0             1\n",
              "1    EPX                Cancellation Plan  ...         0             1\n",
              "2    EPX         2 way Comprehensive Plan  ...         0             1\n",
              "3    C2B                      Silver Plan  ...         1             0\n",
              "4    EPX                Cancellation Plan  ...         0             1\n",
              "\n",
              "[5 rows x 12 columns]"
            ]
          },
          "metadata": {
            "tags": []
          },
          "execution_count": 36
        }
      ]
    },
    {
      "cell_type": "code",
      "metadata": {
        "colab": {
          "base_uri": "https://localhost:8080/"
        },
        "id": "pggoLUgIznmH",
        "outputId": "7d410755-d1fd-4bad-e212-ddf631a41b9d"
      },
      "source": [
        "X.info()"
      ],
      "execution_count": null,
      "outputs": [
        {
          "output_type": "stream",
          "text": [
            "<class 'pandas.core.frame.DataFrame'>\n",
            "RangeIndex: 48260 entries, 0 to 48259\n",
            "Data columns (total 12 columns):\n",
            " #   Column                Non-Null Count  Dtype  \n",
            "---  ------                --------------  -----  \n",
            " 0   Agency                48260 non-null  object \n",
            " 1   Product Name          48260 non-null  object \n",
            " 2   Duration              48260 non-null  float64\n",
            " 3   Destination           48260 non-null  object \n",
            " 4   Net Sales             48260 non-null  float64\n",
            " 5   Commision (in value)  48260 non-null  float64\n",
            " 6   Gender                48260 non-null  int64  \n",
            " 7   Age                   48260 non-null  float64\n",
            " 8   Offline               48260 non-null  uint8  \n",
            " 9   Online                48260 non-null  uint8  \n",
            " 10  Airlines              48260 non-null  uint8  \n",
            " 11  Travel Agency         48260 non-null  uint8  \n",
            "dtypes: float64(4), int64(1), object(3), uint8(4)\n",
            "memory usage: 3.1+ MB\n"
          ],
          "name": "stdout"
        }
      ]
    },
    {
      "cell_type": "code",
      "metadata": {
        "id": "GaKj3u4iznmI"
      },
      "source": [
        "updated_X = X.drop(columns = [\"Agency\", \"Product Name\", \"Destination\"])"
      ],
      "execution_count": null,
      "outputs": []
    },
    {
      "cell_type": "code",
      "metadata": {
        "colab": {
          "base_uri": "https://localhost:8080/"
        },
        "id": "_HO9YHXuznmI",
        "outputId": "9eb8bf43-f0a3-4162-fa86-35763051c30f"
      },
      "source": [
        "updated_X.info()"
      ],
      "execution_count": null,
      "outputs": [
        {
          "output_type": "stream",
          "text": [
            "<class 'pandas.core.frame.DataFrame'>\n",
            "RangeIndex: 48260 entries, 0 to 48259\n",
            "Data columns (total 9 columns):\n",
            " #   Column                Non-Null Count  Dtype  \n",
            "---  ------                --------------  -----  \n",
            " 0   Duration              48260 non-null  float64\n",
            " 1   Net Sales             48260 non-null  float64\n",
            " 2   Commision (in value)  48260 non-null  float64\n",
            " 3   Gender                48260 non-null  int64  \n",
            " 4   Age                   48260 non-null  float64\n",
            " 5   Offline               48260 non-null  uint8  \n",
            " 6   Online                48260 non-null  uint8  \n",
            " 7   Airlines              48260 non-null  uint8  \n",
            " 8   Travel Agency         48260 non-null  uint8  \n",
            "dtypes: float64(4), int64(1), uint8(4)\n",
            "memory usage: 2.0 MB\n"
          ],
          "name": "stdout"
        }
      ]
    },
    {
      "cell_type": "markdown",
      "metadata": {
        "id": "ksg-sa2GznmJ"
      },
      "source": [
        "### Train Test Dataset Split"
      ]
    },
    {
      "cell_type": "code",
      "metadata": {
        "id": "ZbkeKjrCznmJ"
      },
      "source": [
        "X_train, X_test, y_train, y_test = train_test_split(updated_X, y, test_size=0.20, random_state=42)"
      ],
      "execution_count": null,
      "outputs": []
    },
    {
      "cell_type": "markdown",
      "metadata": {
        "id": "jrTKhl0NznmK"
      },
      "source": [
        "### Experiment 1: Logistic Regresion, Decision Tree"
      ]
    },
    {
      "cell_type": "code",
      "metadata": {
        "id": "n03FMumpznmL"
      },
      "source": [
        "from sklearn.tree import DecisionTreeRegressor\n",
        "lrt = LogisticRegression(random_state=42).fit(X_train, y_train)\n",
        "y_lr_pred = lrt.predict(X_test)\n",
        "\n",
        "\n",
        "dtree = DecisionTreeRegressor(max_depth=3, random_state=42).fit(X_train, y_train)\n",
        "y_dtr_pred = dtree.predict(X_test)"
      ],
      "execution_count": null,
      "outputs": []
    },
    {
      "cell_type": "code",
      "metadata": {
        "colab": {
          "base_uri": "https://localhost:8080/"
        },
        "id": "6vs9OwCGznmL",
        "outputId": "c232f37b-1bc0-4310-ca36-ef4858f40598"
      },
      "source": [
        "from sklearn.metrics import classification_report\n",
        "print(\"*\"*20, \"Logistic Regression\", \"*\"*20)\n",
        "print(classification_report(y_test, y_lr_pred, target_names = [\"Claimed\", \"Non-claimed\"]))"
      ],
      "execution_count": null,
      "outputs": [
        {
          "output_type": "stream",
          "text": [
            "******************** Logistic Regression ********************\n",
            "              precision    recall  f1-score   support\n",
            "\n",
            "     Claimed       0.98      1.00      0.99      9494\n",
            " Non-claimed       0.00      0.00      0.00       158\n",
            "\n",
            "    accuracy                           0.98      9652\n",
            "   macro avg       0.49      0.50      0.50      9652\n",
            "weighted avg       0.97      0.98      0.98      9652\n",
            "\n"
          ],
          "name": "stdout"
        }
      ]
    },
    {
      "cell_type": "markdown",
      "metadata": {
        "id": "frQk8nuyznmU"
      },
      "source": [
        "### Fine tune the model:Smote sampling with Random forest and decision tree classifiers"
      ]
    },
    {
      "cell_type": "code",
      "metadata": {
        "id": "rrlBGRJsznmV"
      },
      "source": [
        "from imblearn.over_sampling import SMOTE\n",
        "smote = SMOTE(random_state=7)\n",
        "X_ov, y_ov = smote.fit_resample(updated_X, y)\n",
        "X_train, X_test, y_train, y_test = train_test_split(X_ov, y_ov, train_size=0.7, random_state=7)"
      ],
      "execution_count": null,
      "outputs": []
    },
    {
      "cell_type": "code",
      "metadata": {
        "colab": {
          "base_uri": "https://localhost:8080/"
        },
        "id": "KtR-SBIoznmW",
        "outputId": "172a791b-4f30-4f16-e3ac-3c62f73fd553"
      },
      "source": [
        "from sklearn.svm import LinearSVC\n",
        "from sklearn.ensemble import RandomForestClassifier\n",
        "from sklearn.tree import DecisionTreeClassifier\n",
        "algo_dict = {'Random Forest Classifier':RandomForestClassifier(),'DecisionTreeClassifier':DecisionTreeClassifier(),'Linear SVC':LinearSVC()}\n",
        "\n",
        "\n",
        "                \n",
        "algo_name=[]\n",
        "for i in algo_dict:\n",
        "    algo_name.append(i)\n",
        "\n",
        "for i in algo_dict.keys():\n",
        "      \n",
        "          \n",
        "        algo = algo_dict[i]\n",
        "        model = algo.fit(X_train, y_train)\n",
        "        y_pred = model.predict(X_test)        \n",
        "        print('Classification report'+'\\n',classification_report(y_test, y_pred))\n",
        "        print('***'*30)"
      ],
      "execution_count": null,
      "outputs": [
        {
          "output_type": "stream",
          "text": [
            "Classification report\n",
            "               precision    recall  f1-score   support\n",
            "\n",
            "           0       0.97      0.98      0.98     14333\n",
            "           1       0.98      0.97      0.98     14199\n",
            "\n",
            "    accuracy                           0.98     28532\n",
            "   macro avg       0.98      0.98      0.98     28532\n",
            "weighted avg       0.98      0.98      0.98     28532\n",
            "\n",
            "******************************************************************************************\n",
            "Classification report\n",
            "               precision    recall  f1-score   support\n",
            "\n",
            "           0       0.97      0.97      0.97     14333\n",
            "           1       0.97      0.97      0.97     14199\n",
            "\n",
            "    accuracy                           0.97     28532\n",
            "   macro avg       0.97      0.97      0.97     28532\n",
            "weighted avg       0.97      0.97      0.97     28532\n",
            "\n",
            "******************************************************************************************\n",
            "Classification report\n",
            "               precision    recall  f1-score   support\n",
            "\n",
            "           0       0.63      0.87      0.73     14333\n",
            "           1       0.78      0.49      0.60     14199\n",
            "\n",
            "    accuracy                           0.68     28532\n",
            "   macro avg       0.71      0.68      0.67     28532\n",
            "weighted avg       0.71      0.68      0.67     28532\n",
            "\n",
            "******************************************************************************************\n"
          ],
          "name": "stdout"
        }
      ]
    },
    {
      "cell_type": "markdown",
      "metadata": {
        "id": "uKBVErKU2bSw"
      },
      "source": [
        "### Gradient boost"
      ]
    },
    {
      "cell_type": "code",
      "metadata": {
        "colab": {
          "base_uri": "https://localhost:8080/"
        },
        "id": "C2pR4ywv2aW9",
        "outputId": "02ec0248-59a7-489b-d4b1-c8388e277ccd"
      },
      "source": [
        "from sklearn.ensemble import GradientBoostingClassifier\r\n",
        "learning_rates = [0.05, 0.1, 0.25, 0.5, 0.75, 1]\r\n",
        "for learning_rate in learning_rates:\r\n",
        "    gb = GradientBoostingClassifier(n_estimators=20, learning_rate = learning_rate, max_features=2, max_depth = 2, random_state = 0)\r\n",
        "    gb.fit(X_train, y_train)\r\n",
        "    print(\"Learning rate: \", learning_rate)\r\n",
        "    print(\"Accuracy score (training): {0:.3f}\".format(gb.score(X_train, y_train)))\r\n",
        "    print(\"Accuracy score (validation): {0:.3f}\".format(gb.score(X_test, y_test)))\r\n",
        "    print()"
      ],
      "execution_count": null,
      "outputs": [
        {
          "output_type": "stream",
          "text": [
            "Learning rate:  0.05\n",
            "Accuracy score (training): 0.762\n",
            "Accuracy score (validation): 0.761\n",
            "\n",
            "Learning rate:  0.1\n",
            "Accuracy score (training): 0.763\n",
            "Accuracy score (validation): 0.762\n",
            "\n",
            "Learning rate:  0.25\n",
            "Accuracy score (training): 0.776\n",
            "Accuracy score (validation): 0.775\n",
            "\n",
            "Learning rate:  0.5\n",
            "Accuracy score (training): 0.799\n",
            "Accuracy score (validation): 0.797\n",
            "\n",
            "Learning rate:  0.75\n",
            "Accuracy score (training): 0.802\n",
            "Accuracy score (validation): 0.800\n",
            "\n",
            "Learning rate:  1\n",
            "Accuracy score (training): 0.816\n",
            "Accuracy score (validation): 0.816\n",
            "\n"
          ],
          "name": "stdout"
        }
      ]
    },
    {
      "cell_type": "code",
      "metadata": {
        "colab": {
          "base_uri": "https://localhost:8080/"
        },
        "id": "J1bmQFOJ2orp",
        "outputId": "01140c1f-c788-4beb-f2c6-4d08a5440a21"
      },
      "source": [
        "gb = GradientBoostingClassifier(n_estimators=20, learning_rate = 0.5, max_features=2, max_depth = 2, random_state = 0)\r\n",
        "gb.fit(X_train, y_train)\r\n",
        "predictions = gb.predict(X_test)\r\n",
        "\r\n",
        "print()\r\n",
        "print(\"Classification Report\")\r\n",
        "print(classification_report(y_test, predictions))"
      ],
      "execution_count": null,
      "outputs": [
        {
          "output_type": "stream",
          "text": [
            "\n",
            "Classification Report\n",
            "              precision    recall  f1-score   support\n",
            "\n",
            "           0       0.77      0.85      0.81     14333\n",
            "           1       0.83      0.74      0.78     14199\n",
            "\n",
            "    accuracy                           0.80     28532\n",
            "   macro avg       0.80      0.80      0.80     28532\n",
            "weighted avg       0.80      0.80      0.80     28532\n",
            "\n"
          ],
          "name": "stdout"
        }
      ]
    },
    {
      "cell_type": "code",
      "metadata": {
        "colab": {
          "base_uri": "https://localhost:8080/",
          "height": 313
        },
        "id": "RMcCdYbh3XqZ",
        "outputId": "ef8255bd-c67d-4f74-cb9e-cf126ecea995"
      },
      "source": [
        "#print(\"Confusion Matrix:\")\r\n",
        "#print(confusion_matrix(y_test, predictions))\r\n",
        "#print()\r\n",
        "\r\n",
        "from sklearn.metrics import plot_confusion_matrix\r\n",
        "disp = plot_confusion_matrix(gb, X_test, y_test, cmap=plt.cm.Blues, normalize='true')\r\n",
        "print(disp.confusion_matrix)"
      ],
      "execution_count": null,
      "outputs": [
        {
          "output_type": "stream",
          "text": [
            "[[0.85111282 0.14888718]\n",
            " [0.25727164 0.74272836]]\n"
          ],
          "name": "stdout"
        },
        {
          "output_type": "display_data",
          "data": {
            "image/png": "[encoded data removed]",
            "text/plain": [
              "<Figure size 432x288 with 2 Axes>"
            ]
          },
          "metadata": {
            "tags": [],
            "needs_background": "light"
          }
        }
      ]
    },
    {
      "cell_type": "code",
      "metadata": {
        "colab": {
          "base_uri": "https://localhost:8080/"
        },
        "id": "MgRalEP_7RDg",
        "outputId": "a5a39003-f870-404f-b9e8-232f1eeea444"
      },
      "source": [
        "from sklearn.model_selection import RandomizedSearchCV\r\n",
        "from scipy.stats import randint\r\n",
        "\r\n",
        "param_distribs = {\r\n",
        "        'n_estimators': randint(low=1, high=200),\r\n",
        "        'max_features': randint(low=1, high=8),\r\n",
        "    }\r\n",
        "\r\n",
        "gb2 = GradientBoostingClassifier(random_state = 42)\r\n",
        "rnd_search = RandomizedSearchCV(gb2, param_distributions=param_distribs,\r\n",
        "                                n_iter=10, cv=5, scoring='f1', random_state=42)\r\n",
        "rnd_search.fit(X_test, y_test)"
      ],
      "execution_count": null,
      "outputs": [
        {
          "output_type": "execute_result",
          "data": {
            "text/plain": [
              "RandomizedSearchCV(cv=5, error_score=nan,\n",
              "                   estimator=GradientBoostingClassifier(ccp_alpha=0.0,\n",
              "                                                        criterion='friedman_mse',\n",
              "                                                        init=None,\n",
              "                                                        learning_rate=0.1,\n",
              "                                                        loss='deviance',\n",
              "                                                        max_depth=3,\n",
              "                                                        max_features=None,\n",
              "                                                        max_leaf_nodes=None,\n",
              "                                                        min_impurity_decrease=0.0,\n",
              "                                                        min_impurity_split=None,\n",
              "                                                        min_samples_leaf=1,\n",
              "                                                        min_samples_split=2,\n",
              "                                                        min_weight_fraction_leaf=0.0,\n",
              "                                                        n_estimators=100,\n",
              "                                                        n_ite...\n",
              "                                                        verbose=0,\n",
              "                                                        warm_start=False),\n",
              "                   iid='deprecated', n_iter=10, n_jobs=None,\n",
              "                   param_distributions={'max_features': <scipy.stats._distn_infrastructure.rv_frozen object at 0x7f8ff3d29dd8>,\n",
              "                                        'n_estimators': <scipy.stats._distn_infrastructure.rv_frozen object at 0x7f8ff3d8f080>},\n",
              "                   pre_dispatch='2*n_jobs', random_state=42, refit=True,\n",
              "                   return_train_score=False, scoring='f1', verbose=0)"
            ]
          },
          "metadata": {
            "tags": []
          },
          "execution_count": 48
        }
      ]
    },
    {
      "cell_type": "code",
      "metadata": {
        "colab": {
          "base_uri": "https://localhost:8080/"
        },
        "id": "efmNRyPf8P85",
        "outputId": "8be1df2b-1bb7-4fc3-df45-16f4c5e5a4fb"
      },
      "source": [
        "rnd_search.best_params_"
      ],
      "execution_count": null,
      "outputs": [
        {
          "output_type": "execute_result",
          "data": {
            "text/plain": [
              "{'max_features': 7, 'n_estimators': 180}"
            ]
          },
          "metadata": {
            "tags": []
          },
          "execution_count": 49
        }
      ]
    },
    {
      "cell_type": "code",
      "metadata": {
        "colab": {
          "base_uri": "https://localhost:8080/"
        },
        "id": "iS6kttJ_9bJF",
        "outputId": "6abe3085-1343-40d6-a810-f072339e6e20"
      },
      "source": [
        "feature_importances = rnd_search.best_estimator_.feature_importances_\r\n",
        "feature_importances"
      ],
      "execution_count": null,
      "outputs": [
        {
          "output_type": "execute_result",
          "data": {
            "text/plain": [
              "array([0.10293837, 0.21944341, 0.0480685 , 0.33026   , 0.11099542,\n",
              "       0.01102804, 0.00814137, 0.06484869, 0.10427621])"
            ]
          },
          "metadata": {
            "tags": []
          },
          "execution_count": 50
        }
      ]
    },
    {
      "cell_type": "code",
      "metadata": {
        "colab": {
          "base_uri": "https://localhost:8080/",
          "height": 282
        },
        "id": "CeFdemQC9l6w",
        "outputId": "0667ea87-b22c-443b-958c-16368cb9fd1e"
      },
      "source": [
        "sns.barplot(x=feature_importances, y=updated_X.columns)"
      ],
      "execution_count": null,
      "outputs": [
        {
          "output_type": "execute_result",
          "data": {
            "text/plain": [
              "<matplotlib.axes._subplots.AxesSubplot at 0x7f8ff3e0fa20>"
            ]
          },
          "metadata": {
            "tags": []
          },
          "execution_count": 51
        },
        {
          "output_type": "display_data",
          "data": {
            "image/png": "[encoded data removed]",
            "text/plain": [
              "<Figure size 432x288 with 1 Axes>"
            ]
          },
          "metadata": {
            "tags": [],
            "needs_background": "light"
          }
        }
      ]
    },
    {
      "cell_type": "markdown",
      "metadata": {
        "id": "cHDgIhhEBa4u"
      },
      "source": [
        "### ANN"
      ]
    },
    {
      "cell_type": "code",
      "metadata": {
        "id": "IzrmLZK1BdL0"
      },
      "source": [
        "#Deep Learning Model (ANN)\r\n",
        "import matplotlib.pyplot as plt\r\n",
        "from sklearn.model_selection import train_test_split\r\n",
        "from sklearn.preprocessing import StandardScaler\r\n",
        "import tensorflow as tf\r\n",
        "from tensorflow.keras import layers\r\n",
        "from tensorflow.keras.layers.experimental import preprocessing\r\n",
        "import keras.backend as K"
      ],
      "execution_count": null,
      "outputs": []
    },
    {
      "cell_type": "code",
      "metadata": {
        "id": "tT0Rn5qNERiL"
      },
      "source": [
        "X_train, X_val, y_train, y_val = train_test_split(X_train, y_train, test_size=0.25, random_state=1)"
      ],
      "execution_count": null,
      "outputs": []
    },
    {
      "cell_type": "code",
      "metadata": {
        "id": "5q35gStkBraM"
      },
      "source": [
        "#Standardization is very useful for deeplearning model to learn\r\n",
        "scaler = StandardScaler()\r\n",
        "X_train_scaled = scaler.fit_transform(X_train)\r\n",
        "X_val_scaled = scaler.transform(X_val)\r\n",
        "X_test_scaled = scaler.transform(X_test)"
      ],
      "execution_count": null,
      "outputs": []
    },
    {
      "cell_type": "code",
      "metadata": {
        "colab": {
          "base_uri": "https://localhost:8080/"
        },
        "id": "-PTQC67DD0XZ",
        "outputId": "e839ffde-9b3d-42af-dd14-b14c29c3f719"
      },
      "source": [
        "batch_size = 1024\r\n",
        "\r\n",
        "#calling dataset\r\n",
        "def data_to_tensor(X, y, batch_size, shuffle=True):\r\n",
        "  ds = tf.data.Dataset.from_tensor_slices((X, y))\r\n",
        "  if shuffle:\r\n",
        "    ds = ds.shuffle(buffer_size=len(X))\r\n",
        "  ds = ds.batch(batch_size)\r\n",
        "  ds = ds.prefetch(batch_size)\r\n",
        "  return ds\r\n",
        "\r\n",
        "#datasets per batch\r\n",
        "train_ds = data_to_tensor(X_train, y_train, batch_size=batch_size)\r\n",
        "val_ds = data_to_tensor(X_val, y_val, batch_size=batch_size)\r\n",
        "\r\n",
        "#model\r\n",
        "def Model_ANN():\r\n",
        "    model = tf.keras.Sequential([\r\n",
        "            layers.Dense(128, activation='relu', input_shape=(X_train.shape[1],)),\r\n",
        "            layers.Dense(128, activation='relu'),\r\n",
        "            layers.Dropout(.5),\r\n",
        "            layers.Dense(64, activation='relu'),\r\n",
        "            layers.Dropout(.3),\r\n",
        "            layers.Dense(32, activation='relu'),\r\n",
        "            layers.Dropout(.3),\r\n",
        "            layers.Dense(1, activation='sigmoid')])\r\n",
        "    \r\n",
        "    optim =tf.keras.optimizers.Adam(learning_rate=1e-3) \r\n",
        "\r\n",
        "    model.compile(optimizer=optim,\r\n",
        "                  loss=tf.keras.losses.BinaryCrossentropy(),\r\n",
        "                  metrics=['AUC'])\r\n",
        "    \r\n",
        "    return model\r\n",
        "\r\n",
        "model_ann = Model_ANN()\r\n",
        "model_ann.summary()"
      ],
      "execution_count": null,
      "outputs": [
        {
          "output_type": "stream",
          "text": [
            "Model: \"sequential\"\n",
            "_________________________________________________________________\n",
            "Layer (type)                 Output Shape              Param #   \n",
            "=================================================================\n",
            "dense (Dense)                (None, 128)               1280      \n",
            "_________________________________________________________________\n",
            "dense_1 (Dense)              (None, 128)               16512     \n",
            "_________________________________________________________________\n",
            "dropout (Dropout)            (None, 128)               0         \n",
            "_________________________________________________________________\n",
            "dense_2 (Dense)              (None, 64)                8256      \n",
            "_________________________________________________________________\n",
            "dropout_1 (Dropout)          (None, 64)                0         \n",
            "_________________________________________________________________\n",
            "dense_3 (Dense)              (None, 32)                2080      \n",
            "_________________________________________________________________\n",
            "dropout_2 (Dropout)          (None, 32)                0         \n",
            "_________________________________________________________________\n",
            "dense_4 (Dense)              (None, 1)                 33        \n",
            "=================================================================\n",
            "Total params: 28,161\n",
            "Trainable params: 28,161\n",
            "Non-trainable params: 0\n",
            "_________________________________________________________________\n"
          ],
          "name": "stdout"
        }
      ]
    },
    {
      "cell_type": "code",
      "metadata": {
        "colab": {
          "base_uri": "https://localhost:8080/"
        },
        "id": "YwjdiLQNE4-X",
        "outputId": "13766401-1d85-42ef-df34-d5ce7e1c9ed4"
      },
      "source": [
        "EPOCHS = 1000\r\n",
        "\r\n",
        "early_stopping = tf.keras.callbacks.EarlyStopping(\r\n",
        "    monitor='val_auc', \r\n",
        "    verbose=1,\r\n",
        "    patience=10,\r\n",
        "    mode='max',\r\n",
        "    restore_best_weights=True)\r\n",
        "\r\n",
        "reduce_lr = tf.keras.callbacks.ReduceLROnPlateau(monitor='val_auc', \r\n",
        "                                                 factor=0.1, patience=10, \r\n",
        "                                                 verbose=0, mode='auto',\r\n",
        "                                                 min_delta=0.0001)\r\n",
        "\r\n",
        "history = model_ann.fit(train_ds, epochs=EPOCHS, \r\n",
        "                  validation_data=val_ds, \r\n",
        "                  callbacks=[early_stopping], verbose=1)"
      ],
      "execution_count": null,
      "outputs": [
        {
          "output_type": "stream",
          "text": [
            "Epoch 1/1000\n",
            "49/49 [==============================] - 0s 9ms/step - loss: 1.2205 - auc: 0.6000 - val_loss: 0.6193 - val_auc: 0.7539\n",
            "Epoch 2/1000\n",
            "49/49 [==============================] - 0s 5ms/step - loss: 0.6343 - auc: 0.6985 - val_loss: 0.5980 - val_auc: 0.7686\n",
            "Epoch 3/1000\n",
            "49/49 [==============================] - 0s 5ms/step - loss: 0.6066 - auc: 0.7350 - val_loss: 0.5768 - val_auc: 0.7842\n",
            "Epoch 4/1000\n",
            "49/49 [==============================] - 0s 5ms/step - loss: 0.5881 - auc: 0.7563 - val_loss: 0.5632 - val_auc: 0.7976\n",
            "Epoch 5/1000\n",
            "49/49 [==============================] - 0s 6ms/step - loss: 0.5743 - auc: 0.7725 - val_loss: 0.5509 - val_auc: 0.8024\n",
            "Epoch 6/1000\n",
            "49/49 [==============================] - 0s 6ms/step - loss: 0.5597 - auc: 0.7858 - val_loss: 0.5458 - val_auc: 0.8133\n",
            "Epoch 7/1000\n",
            "49/49 [==============================] - 0s 5ms/step - loss: 0.5508 - auc: 0.7950 - val_loss: 0.5235 - val_auc: 0.8187\n",
            "Epoch 8/1000\n",
            "49/49 [==============================] - 0s 5ms/step - loss: 0.5431 - auc: 0.8029 - val_loss: 0.5192 - val_auc: 0.8254\n",
            "Epoch 9/1000\n",
            "49/49 [==============================] - 0s 4ms/step - loss: 0.5338 - auc: 0.8102 - val_loss: 0.5109 - val_auc: 0.8304\n",
            "Epoch 10/1000\n",
            "49/49 [==============================] - 0s 5ms/step - loss: 0.5303 - auc: 0.8137 - val_loss: 0.5099 - val_auc: 0.8336\n",
            "Epoch 11/1000\n",
            "49/49 [==============================] - 0s 5ms/step - loss: 0.5296 - auc: 0.8145 - val_loss: 0.5017 - val_auc: 0.8349\n",
            "Epoch 12/1000\n",
            "49/49 [==============================] - 0s 5ms/step - loss: 0.5222 - auc: 0.8212 - val_loss: 0.4961 - val_auc: 0.8433\n",
            "Epoch 13/1000\n",
            "49/49 [==============================] - 0s 5ms/step - loss: 0.5241 - auc: 0.8193 - val_loss: 0.4959 - val_auc: 0.8421\n",
            "Epoch 14/1000\n",
            "49/49 [==============================] - 0s 5ms/step - loss: 0.5185 - auc: 0.8223 - val_loss: 0.4937 - val_auc: 0.8457\n",
            "Epoch 15/1000\n",
            "49/49 [==============================] - 0s 5ms/step - loss: 0.5169 - auc: 0.8228 - val_loss: 0.4917 - val_auc: 0.8456\n",
            "Epoch 16/1000\n",
            "49/49 [==============================] - 0s 6ms/step - loss: 0.5146 - auc: 0.8235 - val_loss: 0.4908 - val_auc: 0.8455\n",
            "Epoch 17/1000\n",
            "49/49 [==============================] - 0s 6ms/step - loss: 0.5107 - auc: 0.8271 - val_loss: 0.4932 - val_auc: 0.8481\n",
            "Epoch 18/1000\n",
            "49/49 [==============================] - 0s 5ms/step - loss: 0.5111 - auc: 0.8271 - val_loss: 0.4849 - val_auc: 0.8483\n",
            "Epoch 19/1000\n",
            "49/49 [==============================] - 0s 5ms/step - loss: 0.5091 - auc: 0.8291 - val_loss: 0.4817 - val_auc: 0.8488\n",
            "Epoch 20/1000\n",
            "49/49 [==============================] - 0s 5ms/step - loss: 0.5040 - auc: 0.8328 - val_loss: 0.4814 - val_auc: 0.8526\n",
            "Epoch 21/1000\n",
            "49/49 [==============================] - 0s 5ms/step - loss: 0.5022 - auc: 0.8343 - val_loss: 0.4867 - val_auc: 0.8506\n",
            "Epoch 22/1000\n",
            "49/49 [==============================] - 0s 5ms/step - loss: 0.5033 - auc: 0.8335 - val_loss: 0.4777 - val_auc: 0.8537\n",
            "Epoch 23/1000\n",
            "49/49 [==============================] - 0s 4ms/step - loss: 0.4995 - auc: 0.8369 - val_loss: 0.4772 - val_auc: 0.8526\n",
            "Epoch 24/1000\n",
            "49/49 [==============================] - 0s 5ms/step - loss: 0.4966 - auc: 0.8392 - val_loss: 0.4728 - val_auc: 0.8591\n",
            "Epoch 25/1000\n",
            "49/49 [==============================] - 0s 5ms/step - loss: 0.4952 - auc: 0.8407 - val_loss: 0.4837 - val_auc: 0.8561\n",
            "Epoch 26/1000\n",
            "49/49 [==============================] - 0s 5ms/step - loss: 0.4951 - auc: 0.8391 - val_loss: 0.4752 - val_auc: 0.8573\n",
            "Epoch 27/1000\n",
            "49/49 [==============================] - 0s 5ms/step - loss: 0.4937 - auc: 0.8404 - val_loss: 0.4751 - val_auc: 0.8559\n",
            "Epoch 28/1000\n",
            "49/49 [==============================] - 0s 6ms/step - loss: 0.4921 - auc: 0.8420 - val_loss: 0.4713 - val_auc: 0.8563\n",
            "Epoch 29/1000\n",
            "49/49 [==============================] - 0s 5ms/step - loss: 0.4889 - auc: 0.8439 - val_loss: 0.4675 - val_auc: 0.8598\n",
            "Epoch 30/1000\n",
            "49/49 [==============================] - 0s 5ms/step - loss: 0.4869 - auc: 0.8453 - val_loss: 0.4674 - val_auc: 0.8607\n",
            "Epoch 31/1000\n",
            "49/49 [==============================] - 0s 5ms/step - loss: 0.4879 - auc: 0.8442 - val_loss: 0.4689 - val_auc: 0.8613\n",
            "Epoch 32/1000\n",
            "49/49 [==============================] - 0s 5ms/step - loss: 0.4834 - auc: 0.8474 - val_loss: 0.4647 - val_auc: 0.8623\n",
            "Epoch 33/1000\n",
            "49/49 [==============================] - 0s 5ms/step - loss: 0.4848 - auc: 0.8463 - val_loss: 0.4617 - val_auc: 0.8623\n",
            "Epoch 34/1000\n",
            "49/49 [==============================] - 0s 5ms/step - loss: 0.4872 - auc: 0.8442 - val_loss: 0.4652 - val_auc: 0.8633\n",
            "Epoch 35/1000\n",
            "49/49 [==============================] - 0s 4ms/step - loss: 0.4869 - auc: 0.8445 - val_loss: 0.4644 - val_auc: 0.8637\n",
            "Epoch 36/1000\n",
            "49/49 [==============================] - 0s 5ms/step - loss: 0.4838 - auc: 0.8466 - val_loss: 0.4648 - val_auc: 0.8639\n",
            "Epoch 37/1000\n",
            "49/49 [==============================] - 0s 5ms/step - loss: 0.4836 - auc: 0.8463 - val_loss: 0.4670 - val_auc: 0.8581\n",
            "Epoch 38/1000\n",
            "49/49 [==============================] - 0s 5ms/step - loss: 0.4783 - auc: 0.8502 - val_loss: 0.4600 - val_auc: 0.8645\n",
            "Epoch 39/1000\n",
            "49/49 [==============================] - 0s 5ms/step - loss: 0.4820 - auc: 0.8480 - val_loss: 0.4633 - val_auc: 0.8659\n",
            "Epoch 40/1000\n",
            "49/49 [==============================] - 0s 5ms/step - loss: 0.4765 - auc: 0.8513 - val_loss: 0.4530 - val_auc: 0.8695\n",
            "Epoch 41/1000\n",
            "49/49 [==============================] - 0s 5ms/step - loss: 0.4759 - auc: 0.8517 - val_loss: 0.4541 - val_auc: 0.8692\n",
            "Epoch 42/1000\n",
            "49/49 [==============================] - 0s 4ms/step - loss: 0.4745 - auc: 0.8528 - val_loss: 0.4558 - val_auc: 0.8699\n",
            "Epoch 43/1000\n",
            "49/49 [==============================] - 0s 5ms/step - loss: 0.4751 - auc: 0.8529 - val_loss: 0.4575 - val_auc: 0.8684\n",
            "Epoch 44/1000\n",
            "49/49 [==============================] - 0s 5ms/step - loss: 0.4762 - auc: 0.8518 - val_loss: 0.4539 - val_auc: 0.8695\n",
            "Epoch 45/1000\n",
            "49/49 [==============================] - 0s 5ms/step - loss: 0.4752 - auc: 0.8527 - val_loss: 0.4552 - val_auc: 0.8693\n",
            "Epoch 46/1000\n",
            "49/49 [==============================] - 0s 5ms/step - loss: 0.4736 - auc: 0.8529 - val_loss: 0.4548 - val_auc: 0.8683\n",
            "Epoch 47/1000\n",
            "49/49 [==============================] - 0s 5ms/step - loss: 0.4722 - auc: 0.8538 - val_loss: 0.4496 - val_auc: 0.8697\n",
            "Epoch 48/1000\n",
            "49/49 [==============================] - 0s 6ms/step - loss: 0.4702 - auc: 0.8555 - val_loss: 0.4534 - val_auc: 0.8702\n",
            "Epoch 49/1000\n",
            "49/49 [==============================] - 0s 4ms/step - loss: 0.4699 - auc: 0.8556 - val_loss: 0.4488 - val_auc: 0.8688\n",
            "Epoch 50/1000\n",
            "49/49 [==============================] - 0s 5ms/step - loss: 0.4734 - auc: 0.8531 - val_loss: 0.4513 - val_auc: 0.8684\n",
            "Epoch 51/1000\n",
            "49/49 [==============================] - 0s 5ms/step - loss: 0.4674 - auc: 0.8567 - val_loss: 0.4462 - val_auc: 0.8738\n",
            "Epoch 52/1000\n",
            "49/49 [==============================] - 0s 5ms/step - loss: 0.4655 - auc: 0.8580 - val_loss: 0.4459 - val_auc: 0.8729\n",
            "Epoch 53/1000\n",
            "49/49 [==============================] - 0s 4ms/step - loss: 0.4701 - auc: 0.8544 - val_loss: 0.4450 - val_auc: 0.8729\n",
            "Epoch 54/1000\n",
            "49/49 [==============================] - 0s 4ms/step - loss: 0.4675 - auc: 0.8562 - val_loss: 0.4439 - val_auc: 0.8723\n",
            "Epoch 55/1000\n",
            "49/49 [==============================] - 0s 5ms/step - loss: 0.4632 - auc: 0.8591 - val_loss: 0.4455 - val_auc: 0.8729\n",
            "Epoch 56/1000\n",
            "49/49 [==============================] - 0s 5ms/step - loss: 0.4619 - auc: 0.8599 - val_loss: 0.4446 - val_auc: 0.8719\n",
            "Epoch 57/1000\n",
            "49/49 [==============================] - 0s 5ms/step - loss: 0.4620 - auc: 0.8599 - val_loss: 0.4506 - val_auc: 0.8675\n",
            "Epoch 58/1000\n",
            "49/49 [==============================] - 0s 5ms/step - loss: 0.4633 - auc: 0.8593 - val_loss: 0.4435 - val_auc: 0.8721\n",
            "Epoch 59/1000\n",
            "49/49 [==============================] - 0s 5ms/step - loss: 0.4589 - auc: 0.8617 - val_loss: 0.4348 - val_auc: 0.8777\n",
            "Epoch 60/1000\n",
            "49/49 [==============================] - 0s 5ms/step - loss: 0.4599 - auc: 0.8608 - val_loss: 0.4354 - val_auc: 0.8765\n",
            "Epoch 61/1000\n",
            "49/49 [==============================] - 0s 4ms/step - loss: 0.4613 - auc: 0.8598 - val_loss: 0.4378 - val_auc: 0.8734\n",
            "Epoch 62/1000\n",
            "49/49 [==============================] - 0s 4ms/step - loss: 0.4580 - auc: 0.8622 - val_loss: 0.4518 - val_auc: 0.8685\n",
            "Epoch 63/1000\n",
            "49/49 [==============================] - 0s 5ms/step - loss: 0.4599 - auc: 0.8609 - val_loss: 0.4384 - val_auc: 0.8749\n",
            "Epoch 64/1000\n",
            "49/49 [==============================] - 0s 5ms/step - loss: 0.4562 - auc: 0.8630 - val_loss: 0.4346 - val_auc: 0.8799\n",
            "Epoch 65/1000\n",
            "49/49 [==============================] - 0s 5ms/step - loss: 0.4545 - auc: 0.8642 - val_loss: 0.4363 - val_auc: 0.8756\n",
            "Epoch 66/1000\n",
            "49/49 [==============================] - 0s 4ms/step - loss: 0.4531 - auc: 0.8651 - val_loss: 0.4329 - val_auc: 0.8785\n",
            "Epoch 67/1000\n",
            "49/49 [==============================] - 0s 5ms/step - loss: 0.4531 - auc: 0.8650 - val_loss: 0.4332 - val_auc: 0.8773\n",
            "Epoch 68/1000\n",
            "49/49 [==============================] - 0s 5ms/step - loss: 0.4535 - auc: 0.8647 - val_loss: 0.4317 - val_auc: 0.8803\n",
            "Epoch 69/1000\n",
            "49/49 [==============================] - 0s 5ms/step - loss: 0.4547 - auc: 0.8641 - val_loss: 0.4342 - val_auc: 0.8775\n",
            "Epoch 70/1000\n",
            "49/49 [==============================] - 0s 5ms/step - loss: 0.4506 - auc: 0.8659 - val_loss: 0.4322 - val_auc: 0.8813\n",
            "Epoch 71/1000\n",
            "49/49 [==============================] - 0s 5ms/step - loss: 0.4502 - auc: 0.8661 - val_loss: 0.4289 - val_auc: 0.8801\n",
            "Epoch 72/1000\n",
            "49/49 [==============================] - 0s 6ms/step - loss: 0.4521 - auc: 0.8643 - val_loss: 0.4280 - val_auc: 0.8825\n",
            "Epoch 73/1000\n",
            "49/49 [==============================] - 0s 5ms/step - loss: 0.4540 - auc: 0.8636 - val_loss: 0.4313 - val_auc: 0.8789\n",
            "Epoch 74/1000\n",
            "49/49 [==============================] - 0s 6ms/step - loss: 0.4501 - auc: 0.8664 - val_loss: 0.4327 - val_auc: 0.8794\n",
            "Epoch 75/1000\n",
            "49/49 [==============================] - 0s 5ms/step - loss: 0.4459 - auc: 0.8690 - val_loss: 0.4261 - val_auc: 0.8809\n",
            "Epoch 76/1000\n",
            "49/49 [==============================] - 0s 6ms/step - loss: 0.4471 - auc: 0.8684 - val_loss: 0.4296 - val_auc: 0.8812\n",
            "Epoch 77/1000\n",
            "49/49 [==============================] - 0s 5ms/step - loss: 0.4445 - auc: 0.8700 - val_loss: 0.4322 - val_auc: 0.8797\n",
            "Epoch 78/1000\n",
            "49/49 [==============================] - 0s 4ms/step - loss: 0.4481 - auc: 0.8677 - val_loss: 0.4284 - val_auc: 0.8823\n",
            "Epoch 79/1000\n",
            "49/49 [==============================] - 0s 5ms/step - loss: 0.4435 - auc: 0.8705 - val_loss: 0.4235 - val_auc: 0.8848\n",
            "Epoch 80/1000\n",
            "49/49 [==============================] - 0s 5ms/step - loss: 0.4427 - auc: 0.8705 - val_loss: 0.4288 - val_auc: 0.8834\n",
            "Epoch 81/1000\n",
            "49/49 [==============================] - 0s 5ms/step - loss: 0.4428 - auc: 0.8695 - val_loss: 0.4208 - val_auc: 0.8858\n",
            "Epoch 82/1000\n",
            "49/49 [==============================] - 0s 4ms/step - loss: 0.4438 - auc: 0.8691 - val_loss: 0.4178 - val_auc: 0.8859\n",
            "Epoch 83/1000\n",
            "49/49 [==============================] - 0s 5ms/step - loss: 0.4386 - auc: 0.8726 - val_loss: 0.4243 - val_auc: 0.8833\n",
            "Epoch 84/1000\n",
            "49/49 [==============================] - 0s 5ms/step - loss: 0.4416 - auc: 0.8713 - val_loss: 0.4208 - val_auc: 0.8849\n",
            "Epoch 85/1000\n",
            "49/49 [==============================] - 0s 5ms/step - loss: 0.4388 - auc: 0.8726 - val_loss: 0.4230 - val_auc: 0.8852\n",
            "Epoch 86/1000\n",
            "49/49 [==============================] - 0s 5ms/step - loss: 0.4426 - auc: 0.8706 - val_loss: 0.4204 - val_auc: 0.8863\n",
            "Epoch 87/1000\n",
            "49/49 [==============================] - 0s 5ms/step - loss: 0.4398 - auc: 0.8721 - val_loss: 0.4181 - val_auc: 0.8868\n",
            "Epoch 88/1000\n",
            "49/49 [==============================] - 0s 5ms/step - loss: 0.4397 - auc: 0.8724 - val_loss: 0.4219 - val_auc: 0.8841\n",
            "Epoch 89/1000\n",
            "49/49 [==============================] - 0s 5ms/step - loss: 0.4375 - auc: 0.8731 - val_loss: 0.4173 - val_auc: 0.8883\n",
            "Epoch 90/1000\n",
            "49/49 [==============================] - 0s 5ms/step - loss: 0.4393 - auc: 0.8716 - val_loss: 0.4170 - val_auc: 0.8880\n",
            "Epoch 91/1000\n",
            "49/49 [==============================] - 0s 4ms/step - loss: 0.4382 - auc: 0.8731 - val_loss: 0.4153 - val_auc: 0.8868\n",
            "Epoch 92/1000\n",
            "49/49 [==============================] - 0s 5ms/step - loss: 0.4344 - auc: 0.8750 - val_loss: 0.4141 - val_auc: 0.8890\n",
            "Epoch 93/1000\n",
            "49/49 [==============================] - 0s 5ms/step - loss: 0.4324 - auc: 0.8763 - val_loss: 0.4135 - val_auc: 0.8867\n",
            "Epoch 94/1000\n",
            "49/49 [==============================] - 0s 5ms/step - loss: 0.4387 - auc: 0.8721 - val_loss: 0.4183 - val_auc: 0.8867\n",
            "Epoch 95/1000\n",
            "49/49 [==============================] - 0s 5ms/step - loss: 0.4337 - auc: 0.8752 - val_loss: 0.4110 - val_auc: 0.8891\n",
            "Epoch 96/1000\n",
            "49/49 [==============================] - 0s 5ms/step - loss: 0.4355 - auc: 0.8742 - val_loss: 0.4098 - val_auc: 0.8901\n",
            "Epoch 97/1000\n",
            "49/49 [==============================] - 0s 5ms/step - loss: 0.4315 - auc: 0.8768 - val_loss: 0.4105 - val_auc: 0.8892\n",
            "Epoch 98/1000\n",
            "49/49 [==============================] - 0s 4ms/step - loss: 0.4325 - auc: 0.8759 - val_loss: 0.4150 - val_auc: 0.8867\n",
            "Epoch 99/1000\n",
            "49/49 [==============================] - 0s 5ms/step - loss: 0.4346 - auc: 0.8751 - val_loss: 0.4151 - val_auc: 0.8870\n",
            "Epoch 100/1000\n",
            "49/49 [==============================] - 0s 5ms/step - loss: 0.4311 - auc: 0.8766 - val_loss: 0.4113 - val_auc: 0.8912\n",
            "Epoch 101/1000\n",
            "49/49 [==============================] - 0s 5ms/step - loss: 0.4314 - auc: 0.8764 - val_loss: 0.4063 - val_auc: 0.8913\n",
            "Epoch 102/1000\n",
            "49/49 [==============================] - 0s 4ms/step - loss: 0.4289 - auc: 0.8775 - val_loss: 0.4098 - val_auc: 0.8905\n",
            "Epoch 103/1000\n",
            "49/49 [==============================] - 0s 5ms/step - loss: 0.4294 - auc: 0.8778 - val_loss: 0.4063 - val_auc: 0.8913\n",
            "Epoch 104/1000\n",
            "49/49 [==============================] - 0s 5ms/step - loss: 0.4335 - auc: 0.8753 - val_loss: 0.4115 - val_auc: 0.8926\n",
            "Epoch 105/1000\n",
            "49/49 [==============================] - 0s 5ms/step - loss: 0.4301 - auc: 0.8771 - val_loss: 0.4075 - val_auc: 0.8931\n",
            "Epoch 106/1000\n",
            "49/49 [==============================] - 0s 5ms/step - loss: 0.4279 - auc: 0.8783 - val_loss: 0.4054 - val_auc: 0.8938\n",
            "Epoch 107/1000\n",
            "49/49 [==============================] - 0s 5ms/step - loss: 0.4249 - auc: 0.8800 - val_loss: 0.4037 - val_auc: 0.8942\n",
            "Epoch 108/1000\n",
            "49/49 [==============================] - 0s 5ms/step - loss: 0.4263 - auc: 0.8789 - val_loss: 0.4032 - val_auc: 0.8931\n",
            "Epoch 109/1000\n",
            "49/49 [==============================] - 0s 5ms/step - loss: 0.4277 - auc: 0.8781 - val_loss: 0.4043 - val_auc: 0.8925\n",
            "Epoch 110/1000\n",
            "49/49 [==============================] - 0s 5ms/step - loss: 0.4285 - auc: 0.8776 - val_loss: 0.4046 - val_auc: 0.8927\n",
            "Epoch 111/1000\n",
            "49/49 [==============================] - 0s 6ms/step - loss: 0.4297 - auc: 0.8779 - val_loss: 0.4080 - val_auc: 0.8932\n",
            "Epoch 112/1000\n",
            "49/49 [==============================] - 0s 5ms/step - loss: 0.4234 - auc: 0.8813 - val_loss: 0.3993 - val_auc: 0.8951\n",
            "Epoch 113/1000\n",
            "49/49 [==============================] - 0s 5ms/step - loss: 0.4243 - auc: 0.8802 - val_loss: 0.4063 - val_auc: 0.8925\n",
            "Epoch 114/1000\n",
            "49/49 [==============================] - 0s 5ms/step - loss: 0.4249 - auc: 0.8799 - val_loss: 0.4024 - val_auc: 0.8935\n",
            "Epoch 115/1000\n",
            "49/49 [==============================] - 0s 4ms/step - loss: 0.4242 - auc: 0.8808 - val_loss: 0.4036 - val_auc: 0.8943\n",
            "Epoch 116/1000\n",
            "49/49 [==============================] - 0s 5ms/step - loss: 0.4246 - auc: 0.8790 - val_loss: 0.4067 - val_auc: 0.8931\n",
            "Epoch 117/1000\n",
            "49/49 [==============================] - 0s 6ms/step - loss: 0.4264 - auc: 0.8774 - val_loss: 0.4041 - val_auc: 0.8959\n",
            "Epoch 118/1000\n",
            "49/49 [==============================] - 0s 5ms/step - loss: 0.4263 - auc: 0.8791 - val_loss: 0.4038 - val_auc: 0.8943\n",
            "Epoch 119/1000\n",
            "49/49 [==============================] - 0s 5ms/step - loss: 0.4240 - auc: 0.8806 - val_loss: 0.4073 - val_auc: 0.8921\n",
            "Epoch 120/1000\n",
            "49/49 [==============================] - 0s 5ms/step - loss: 0.4236 - auc: 0.8807 - val_loss: 0.4003 - val_auc: 0.8953\n",
            "Epoch 121/1000\n",
            "49/49 [==============================] - 0s 5ms/step - loss: 0.4184 - auc: 0.8834 - val_loss: 0.3953 - val_auc: 0.8970\n",
            "Epoch 122/1000\n",
            "49/49 [==============================] - 0s 5ms/step - loss: 0.4223 - auc: 0.8810 - val_loss: 0.4020 - val_auc: 0.8942\n",
            "Epoch 123/1000\n",
            "49/49 [==============================] - 0s 5ms/step - loss: 0.4185 - auc: 0.8832 - val_loss: 0.4007 - val_auc: 0.8970\n",
            "Epoch 124/1000\n",
            "49/49 [==============================] - 0s 5ms/step - loss: 0.4202 - auc: 0.8820 - val_loss: 0.3952 - val_auc: 0.8978\n",
            "Epoch 125/1000\n",
            "49/49 [==============================] - 0s 5ms/step - loss: 0.4210 - auc: 0.8822 - val_loss: 0.3984 - val_auc: 0.8963\n",
            "Epoch 126/1000\n",
            "49/49 [==============================] - 0s 5ms/step - loss: 0.4223 - auc: 0.8811 - val_loss: 0.3981 - val_auc: 0.8970\n",
            "Epoch 127/1000\n",
            "49/49 [==============================] - 0s 5ms/step - loss: 0.4219 - auc: 0.8814 - val_loss: 0.3965 - val_auc: 0.8981\n",
            "Epoch 128/1000\n",
            "49/49 [==============================] - 0s 6ms/step - loss: 0.4187 - auc: 0.8831 - val_loss: 0.3936 - val_auc: 0.8981\n",
            "Epoch 129/1000\n",
            "49/49 [==============================] - 0s 5ms/step - loss: 0.4192 - auc: 0.8828 - val_loss: 0.4016 - val_auc: 0.8968\n",
            "Epoch 130/1000\n",
            "49/49 [==============================] - 0s 5ms/step - loss: 0.4163 - auc: 0.8840 - val_loss: 0.3959 - val_auc: 0.8982\n",
            "Epoch 131/1000\n",
            "49/49 [==============================] - 0s 5ms/step - loss: 0.4157 - auc: 0.8849 - val_loss: 0.4001 - val_auc: 0.8963\n",
            "Epoch 132/1000\n",
            "49/49 [==============================] - 0s 5ms/step - loss: 0.4159 - auc: 0.8844 - val_loss: 0.3955 - val_auc: 0.8983\n",
            "Epoch 133/1000\n",
            "49/49 [==============================] - 0s 5ms/step - loss: 0.4161 - auc: 0.8848 - val_loss: 0.3943 - val_auc: 0.8972\n",
            "Epoch 134/1000\n",
            "49/49 [==============================] - 0s 5ms/step - loss: 0.4142 - auc: 0.8852 - val_loss: 0.3947 - val_auc: 0.9005\n",
            "Epoch 135/1000\n",
            "49/49 [==============================] - 0s 5ms/step - loss: 0.4177 - auc: 0.8831 - val_loss: 0.3983 - val_auc: 0.8973\n",
            "Epoch 136/1000\n",
            "49/49 [==============================] - 0s 5ms/step - loss: 0.4143 - auc: 0.8858 - val_loss: 0.3992 - val_auc: 0.8962\n",
            "Epoch 137/1000\n",
            "49/49 [==============================] - 0s 5ms/step - loss: 0.4124 - auc: 0.8870 - val_loss: 0.3958 - val_auc: 0.8981\n",
            "Epoch 138/1000\n",
            "49/49 [==============================] - 0s 5ms/step - loss: 0.4133 - auc: 0.8860 - val_loss: 0.3965 - val_auc: 0.9002\n",
            "Epoch 139/1000\n",
            "49/49 [==============================] - 0s 5ms/step - loss: 0.4139 - auc: 0.8860 - val_loss: 0.3937 - val_auc: 0.8997\n",
            "Epoch 140/1000\n",
            "49/49 [==============================] - 0s 5ms/step - loss: 0.4142 - auc: 0.8857 - val_loss: 0.3929 - val_auc: 0.8985\n",
            "Epoch 141/1000\n",
            "49/49 [==============================] - 0s 5ms/step - loss: 0.4096 - auc: 0.8878 - val_loss: 0.3881 - val_auc: 0.9009\n",
            "Epoch 142/1000\n",
            "49/49 [==============================] - 0s 5ms/step - loss: 0.4114 - auc: 0.8871 - val_loss: 0.3926 - val_auc: 0.9014\n",
            "Epoch 143/1000\n",
            "49/49 [==============================] - 0s 5ms/step - loss: 0.4106 - auc: 0.8872 - val_loss: 0.3938 - val_auc: 0.9015\n",
            "Epoch 144/1000\n",
            "49/49 [==============================] - 0s 5ms/step - loss: 0.4112 - auc: 0.8870 - val_loss: 0.3870 - val_auc: 0.9006\n",
            "Epoch 145/1000\n",
            "49/49 [==============================] - 0s 5ms/step - loss: 0.4149 - auc: 0.8834 - val_loss: 0.3875 - val_auc: 0.9016\n",
            "Epoch 146/1000\n",
            "49/49 [==============================] - 0s 5ms/step - loss: 0.4114 - auc: 0.8859 - val_loss: 0.3905 - val_auc: 0.9006\n",
            "Epoch 147/1000\n",
            "49/49 [==============================] - 0s 5ms/step - loss: 0.4088 - auc: 0.8879 - val_loss: 0.3897 - val_auc: 0.8999\n",
            "Epoch 148/1000\n",
            "49/49 [==============================] - 0s 5ms/step - loss: 0.4099 - auc: 0.8869 - val_loss: 0.3883 - val_auc: 0.8999\n",
            "Epoch 149/1000\n",
            "49/49 [==============================] - 0s 5ms/step - loss: 0.4111 - auc: 0.8863 - val_loss: 0.3926 - val_auc: 0.8990\n",
            "Epoch 150/1000\n",
            "49/49 [==============================] - 0s 6ms/step - loss: 0.4086 - auc: 0.8881 - val_loss: 0.3866 - val_auc: 0.9022\n",
            "Epoch 151/1000\n",
            "49/49 [==============================] - 0s 6ms/step - loss: 0.4119 - auc: 0.8862 - val_loss: 0.3957 - val_auc: 0.8995\n",
            "Epoch 152/1000\n",
            "49/49 [==============================] - 0s 5ms/step - loss: 0.4107 - auc: 0.8854 - val_loss: 0.3842 - val_auc: 0.9031\n",
            "Epoch 153/1000\n",
            "49/49 [==============================] - 0s 5ms/step - loss: 0.4141 - auc: 0.8843 - val_loss: 0.3889 - val_auc: 0.9021\n",
            "Epoch 154/1000\n",
            "49/49 [==============================] - 0s 5ms/step - loss: 0.4139 - auc: 0.8853 - val_loss: 0.3899 - val_auc: 0.9010\n",
            "Epoch 155/1000\n",
            "49/49 [==============================] - 0s 5ms/step - loss: 0.4068 - auc: 0.8890 - val_loss: 0.3848 - val_auc: 0.9030\n",
            "Epoch 156/1000\n",
            "49/49 [==============================] - 0s 5ms/step - loss: 0.4043 - auc: 0.8907 - val_loss: 0.3923 - val_auc: 0.9016\n",
            "Epoch 157/1000\n",
            "49/49 [==============================] - 0s 5ms/step - loss: 0.4094 - auc: 0.8882 - val_loss: 0.3834 - val_auc: 0.9026\n",
            "Epoch 158/1000\n",
            "49/49 [==============================] - 0s 5ms/step - loss: 0.4052 - auc: 0.8894 - val_loss: 0.3817 - val_auc: 0.9050\n",
            "Epoch 159/1000\n",
            "49/49 [==============================] - 0s 5ms/step - loss: 0.4047 - auc: 0.8896 - val_loss: 0.3833 - val_auc: 0.9055\n",
            "Epoch 160/1000\n",
            "49/49 [==============================] - 0s 5ms/step - loss: 0.4026 - auc: 0.8913 - val_loss: 0.3832 - val_auc: 0.9043\n",
            "Epoch 161/1000\n",
            "49/49 [==============================] - 0s 6ms/step - loss: 0.4053 - auc: 0.8900 - val_loss: 0.3845 - val_auc: 0.9060\n",
            "Epoch 162/1000\n",
            "49/49 [==============================] - 0s 5ms/step - loss: 0.4009 - auc: 0.8922 - val_loss: 0.3807 - val_auc: 0.9040\n",
            "Epoch 163/1000\n",
            "49/49 [==============================] - 0s 6ms/step - loss: 0.4012 - auc: 0.8921 - val_loss: 0.3838 - val_auc: 0.9052\n",
            "Epoch 164/1000\n",
            "49/49 [==============================] - 0s 6ms/step - loss: 0.4043 - auc: 0.8904 - val_loss: 0.3793 - val_auc: 0.9067\n",
            "Epoch 165/1000\n",
            "49/49 [==============================] - 0s 6ms/step - loss: 0.4004 - auc: 0.8921 - val_loss: 0.3796 - val_auc: 0.9035\n",
            "Epoch 166/1000\n",
            "49/49 [==============================] - 0s 5ms/step - loss: 0.4011 - auc: 0.8924 - val_loss: 0.3806 - val_auc: 0.9062\n",
            "Epoch 167/1000\n",
            "49/49 [==============================] - 0s 5ms/step - loss: 0.3989 - auc: 0.8930 - val_loss: 0.3754 - val_auc: 0.9079\n",
            "Epoch 168/1000\n",
            "49/49 [==============================] - 0s 5ms/step - loss: 0.3991 - auc: 0.8931 - val_loss: 0.3785 - val_auc: 0.9070\n",
            "Epoch 169/1000\n",
            "49/49 [==============================] - 0s 5ms/step - loss: 0.4030 - auc: 0.8913 - val_loss: 0.3850 - val_auc: 0.9048\n",
            "Epoch 170/1000\n",
            "49/49 [==============================] - 0s 5ms/step - loss: 0.4020 - auc: 0.8915 - val_loss: 0.3793 - val_auc: 0.9059\n",
            "Epoch 171/1000\n",
            "49/49 [==============================] - 0s 4ms/step - loss: 0.4020 - auc: 0.8917 - val_loss: 0.3806 - val_auc: 0.9061\n",
            "Epoch 172/1000\n",
            "49/49 [==============================] - 0s 5ms/step - loss: 0.4018 - auc: 0.8916 - val_loss: 0.3835 - val_auc: 0.9054\n",
            "Epoch 173/1000\n",
            "49/49 [==============================] - 0s 5ms/step - loss: 0.4025 - auc: 0.8918 - val_loss: 0.3856 - val_auc: 0.9053\n",
            "Epoch 174/1000\n",
            "49/49 [==============================] - 0s 5ms/step - loss: 0.4025 - auc: 0.8912 - val_loss: 0.3757 - val_auc: 0.9083\n",
            "Epoch 175/1000\n",
            "49/49 [==============================] - 0s 5ms/step - loss: 0.4018 - auc: 0.8907 - val_loss: 0.3773 - val_auc: 0.9084\n",
            "Epoch 176/1000\n",
            "49/49 [==============================] - 0s 5ms/step - loss: 0.4027 - auc: 0.8908 - val_loss: 0.3825 - val_auc: 0.9046\n",
            "Epoch 177/1000\n",
            "49/49 [==============================] - 0s 6ms/step - loss: 0.4011 - auc: 0.8913 - val_loss: 0.3744 - val_auc: 0.9100\n",
            "Epoch 178/1000\n",
            "49/49 [==============================] - 0s 6ms/step - loss: 0.4028 - auc: 0.8904 - val_loss: 0.3811 - val_auc: 0.9061\n",
            "Epoch 179/1000\n",
            "49/49 [==============================] - 0s 6ms/step - loss: 0.4030 - auc: 0.8913 - val_loss: 0.3766 - val_auc: 0.9100\n",
            "Epoch 180/1000\n",
            "49/49 [==============================] - 0s 6ms/step - loss: 0.4013 - auc: 0.8915 - val_loss: 0.3763 - val_auc: 0.9087\n",
            "Epoch 181/1000\n",
            "49/49 [==============================] - 0s 4ms/step - loss: 0.3979 - auc: 0.8935 - val_loss: 0.3755 - val_auc: 0.9105\n",
            "Epoch 182/1000\n",
            "49/49 [==============================] - 0s 5ms/step - loss: 0.3974 - auc: 0.8943 - val_loss: 0.3813 - val_auc: 0.9084\n",
            "Epoch 183/1000\n",
            "49/49 [==============================] - 0s 5ms/step - loss: 0.3985 - auc: 0.8940 - val_loss: 0.3771 - val_auc: 0.9085\n",
            "Epoch 184/1000\n",
            "49/49 [==============================] - 0s 5ms/step - loss: 0.3959 - auc: 0.8953 - val_loss: 0.3738 - val_auc: 0.9101\n",
            "Epoch 185/1000\n",
            "49/49 [==============================] - 0s 5ms/step - loss: 0.3989 - auc: 0.8938 - val_loss: 0.3761 - val_auc: 0.9080\n",
            "Epoch 186/1000\n",
            "49/49 [==============================] - 0s 5ms/step - loss: 0.3927 - auc: 0.8970 - val_loss: 0.3736 - val_auc: 0.9115\n",
            "Epoch 187/1000\n",
            "49/49 [==============================] - 0s 5ms/step - loss: 0.3928 - auc: 0.8970 - val_loss: 0.3751 - val_auc: 0.9106\n",
            "Epoch 188/1000\n",
            "49/49 [==============================] - 0s 5ms/step - loss: 0.3908 - auc: 0.8980 - val_loss: 0.3697 - val_auc: 0.9118\n",
            "Epoch 189/1000\n",
            "49/49 [==============================] - 0s 5ms/step - loss: 0.3950 - auc: 0.8952 - val_loss: 0.3728 - val_auc: 0.9119\n",
            "Epoch 190/1000\n",
            "49/49 [==============================] - 0s 5ms/step - loss: 0.3952 - auc: 0.8955 - val_loss: 0.3769 - val_auc: 0.9090\n",
            "Epoch 191/1000\n",
            "49/49 [==============================] - 0s 5ms/step - loss: 0.3973 - auc: 0.8947 - val_loss: 0.3734 - val_auc: 0.9120\n",
            "Epoch 192/1000\n",
            "49/49 [==============================] - 0s 5ms/step - loss: 0.3918 - auc: 0.8978 - val_loss: 0.3676 - val_auc: 0.9135\n",
            "Epoch 193/1000\n",
            "49/49 [==============================] - 0s 6ms/step - loss: 0.3912 - auc: 0.8977 - val_loss: 0.3692 - val_auc: 0.9126\n",
            "Epoch 194/1000\n",
            "49/49 [==============================] - 0s 6ms/step - loss: 0.3928 - auc: 0.8962 - val_loss: 0.3764 - val_auc: 0.9123\n",
            "Epoch 195/1000\n",
            "49/49 [==============================] - 0s 5ms/step - loss: 0.3941 - auc: 0.8967 - val_loss: 0.3725 - val_auc: 0.9133\n",
            "Epoch 196/1000\n",
            "49/49 [==============================] - 0s 6ms/step - loss: 0.3882 - auc: 0.8992 - val_loss: 0.3723 - val_auc: 0.9128\n",
            "Epoch 197/1000\n",
            "49/49 [==============================] - 0s 6ms/step - loss: 0.3909 - auc: 0.8982 - val_loss: 0.3665 - val_auc: 0.9137\n",
            "Epoch 198/1000\n",
            "49/49 [==============================] - 0s 5ms/step - loss: 0.3930 - auc: 0.8970 - val_loss: 0.3667 - val_auc: 0.9158\n",
            "Epoch 199/1000\n",
            "49/49 [==============================] - 0s 6ms/step - loss: 0.3920 - auc: 0.8976 - val_loss: 0.3652 - val_auc: 0.9156\n",
            "Epoch 200/1000\n",
            "49/49 [==============================] - 0s 6ms/step - loss: 0.3882 - auc: 0.8997 - val_loss: 0.3705 - val_auc: 0.9135\n",
            "Epoch 201/1000\n",
            "49/49 [==============================] - 0s 5ms/step - loss: 0.3883 - auc: 0.8998 - val_loss: 0.3834 - val_auc: 0.9088\n",
            "Epoch 202/1000\n",
            "49/49 [==============================] - 0s 5ms/step - loss: 0.3868 - auc: 0.9001 - val_loss: 0.3586 - val_auc: 0.9184\n",
            "Epoch 203/1000\n",
            "49/49 [==============================] - 0s 5ms/step - loss: 0.3911 - auc: 0.8977 - val_loss: 0.3675 - val_auc: 0.9131\n",
            "Epoch 204/1000\n",
            "49/49 [==============================] - 0s 4ms/step - loss: 0.3898 - auc: 0.8979 - val_loss: 0.3653 - val_auc: 0.9153\n",
            "Epoch 205/1000\n",
            "49/49 [==============================] - 0s 5ms/step - loss: 0.3912 - auc: 0.8971 - val_loss: 0.3687 - val_auc: 0.9141\n",
            "Epoch 206/1000\n",
            "49/49 [==============================] - 0s 5ms/step - loss: 0.3930 - auc: 0.8962 - val_loss: 0.3670 - val_auc: 0.9134\n",
            "Epoch 207/1000\n",
            "49/49 [==============================] - 0s 5ms/step - loss: 0.3937 - auc: 0.8958 - val_loss: 0.3600 - val_auc: 0.9169\n",
            "Epoch 208/1000\n",
            "49/49 [==============================] - 0s 5ms/step - loss: 0.3896 - auc: 0.8982 - val_loss: 0.3664 - val_auc: 0.9140\n",
            "Epoch 209/1000\n",
            "49/49 [==============================] - 0s 5ms/step - loss: 0.3891 - auc: 0.8984 - val_loss: 0.3698 - val_auc: 0.9158\n",
            "Epoch 210/1000\n",
            "49/49 [==============================] - 0s 5ms/step - loss: 0.3865 - auc: 0.8992 - val_loss: 0.3600 - val_auc: 0.9168\n",
            "Epoch 211/1000\n",
            "49/49 [==============================] - 0s 5ms/step - loss: 0.3893 - auc: 0.8974 - val_loss: 0.3623 - val_auc: 0.9169\n",
            "Epoch 212/1000\n",
            "43/49 [=========================>....] - ETA: 0s - loss: 0.3867 - auc: 0.8990Restoring model weights from the end of the best epoch.\n",
            "49/49 [==============================] - 0s 5ms/step - loss: 0.3874 - auc: 0.8987 - val_loss: 0.3640 - val_auc: 0.9144\n",
            "Epoch 00212: early stopping\n"
          ],
          "name": "stdout"
        }
      ]
    },
    {
      "cell_type": "markdown",
      "metadata": {
        "id": "tZ8mB8LxznmW"
      },
      "source": [
        "### Save Predictions"
      ]
    },
    {
      "cell_type": "code",
      "metadata": {
        "colab": {
          "base_uri": "https://localhost:8080/"
        },
        "id": "4s7NKqqgznmX",
        "outputId": "1345432a-0b7e-42df-cec7-0289c9f523b5"
      },
      "source": [
        "test_data = pd.read_csv('https://raw.githubusercontent.com/dphi-official/Datasets/master/travel_insurance/Testing_set_label.csv')\n",
        "test_data.info()"
      ],
      "execution_count": null,
      "outputs": [
        {
          "output_type": "stream",
          "text": [
            "<class 'pandas.core.frame.DataFrame'>\n",
            "RangeIndex: 15832 entries, 0 to 15831\n",
            "Data columns (total 10 columns):\n",
            " #   Column                Non-Null Count  Dtype  \n",
            "---  ------                --------------  -----  \n",
            " 0   Agency                15832 non-null  object \n",
            " 1   Agency Type           15832 non-null  object \n",
            " 2   Distribution Channel  15832 non-null  object \n",
            " 3   Product Name          15832 non-null  object \n",
            " 4   Duration              15832 non-null  int64  \n",
            " 5   Destination           15832 non-null  object \n",
            " 6   Net Sales             15832 non-null  float64\n",
            " 7   Commision (in value)  15832 non-null  float64\n",
            " 8   Gender                4546 non-null   object \n",
            " 9   Age                   15832 non-null  int64  \n",
            "dtypes: float64(2), int64(2), object(6)\n",
            "memory usage: 1.2+ MB\n"
          ],
          "name": "stdout"
        }
      ]
    },
    {
      "cell_type": "code",
      "metadata": {
        "colab": {
          "base_uri": "https://localhost:8080/"
        },
        "id": "IGuBC8Z4znmX",
        "outputId": "ed11261f-3a10-45fd-e91f-0303d217729f"
      },
      "source": [
        "test_data['Gender']=test_data['Gender'].fillna(test_data['Gender'].mode()[0])\n",
        "test_data.info()"
      ],
      "execution_count": null,
      "outputs": [
        {
          "output_type": "stream",
          "text": [
            "<class 'pandas.core.frame.DataFrame'>\n",
            "RangeIndex: 15832 entries, 0 to 15831\n",
            "Data columns (total 10 columns):\n",
            " #   Column                Non-Null Count  Dtype  \n",
            "---  ------                --------------  -----  \n",
            " 0   Agency                15832 non-null  object \n",
            " 1   Agency Type           15832 non-null  object \n",
            " 2   Distribution Channel  15832 non-null  object \n",
            " 3   Product Name          15832 non-null  object \n",
            " 4   Duration              15832 non-null  int64  \n",
            " 5   Destination           15832 non-null  object \n",
            " 6   Net Sales             15832 non-null  float64\n",
            " 7   Commision (in value)  15832 non-null  float64\n",
            " 8   Gender                15832 non-null  object \n",
            " 9   Age                   15832 non-null  int64  \n",
            "dtypes: float64(2), int64(2), object(6)\n",
            "memory usage: 1.2+ MB\n"
          ],
          "name": "stdout"
        }
      ]
    },
    {
      "cell_type": "code",
      "metadata": {
        "id": "nUVg_IaQznmY"
      },
      "source": [
        "test_data.loc[test_data['Duration'] < 0, 'Duration'] = test_data['Duration'].mean()"
      ],
      "execution_count": null,
      "outputs": []
    },
    {
      "cell_type": "code",
      "metadata": {
        "id": "QN-yvs6LznmZ"
      },
      "source": [
        "test_data.loc[test_data['Net Sales'] == 0.0, 'Commision (in value)'] = 0"
      ],
      "execution_count": null,
      "outputs": []
    },
    {
      "cell_type": "code",
      "metadata": {
        "id": "H6NEqazcznmZ"
      },
      "source": [
        "test_data.loc[test_data['Age'] > 100, 'Age'] = test_data['Age'].mean()"
      ],
      "execution_count": null,
      "outputs": []
    },
    {
      "cell_type": "code",
      "metadata": {
        "id": "6tQTftb2znmZ"
      },
      "source": [
        "test_data['Gender'].replace(to_replace=['F','M'], value=[0,1],inplace=True)"
      ],
      "execution_count": null,
      "outputs": []
    },
    {
      "cell_type": "code",
      "metadata": {
        "id": "XkY9EkSmznma"
      },
      "source": [
        "X_extension = pd.get_dummies(test_data['Distribution Channel'])\n",
        "test_data = pd.concat([test_data, X_extension], axis=1)\n",
        "test_data.drop('Distribution Channel', inplace=True, axis=1)"
      ],
      "execution_count": null,
      "outputs": []
    },
    {
      "cell_type": "code",
      "metadata": {
        "id": "f-CKtCNTznma"
      },
      "source": [
        "X_extension = pd.get_dummies(test_data['Agency Type'])\n",
        "test_data = pd.concat([test_data, X_extension], axis=1)\n",
        "test_data.drop('Agency Type', inplace=True, axis=1)"
      ],
      "execution_count": null,
      "outputs": []
    },
    {
      "cell_type": "code",
      "metadata": {
        "colab": {
          "base_uri": "https://localhost:8080/"
        },
        "id": "2h3UEKhhznmb",
        "outputId": "502fdf7e-b65e-448a-cedf-da57f6f9748f"
      },
      "source": [
        "test_data.info()"
      ],
      "execution_count": null,
      "outputs": [
        {
          "output_type": "stream",
          "text": [
            "<class 'pandas.core.frame.DataFrame'>\n",
            "RangeIndex: 15832 entries, 0 to 15831\n",
            "Data columns (total 12 columns):\n",
            " #   Column                Non-Null Count  Dtype  \n",
            "---  ------                --------------  -----  \n",
            " 0   Agency                15832 non-null  object \n",
            " 1   Product Name          15832 non-null  object \n",
            " 2   Duration              15832 non-null  float64\n",
            " 3   Destination           15832 non-null  object \n",
            " 4   Net Sales             15832 non-null  float64\n",
            " 5   Commision (in value)  15832 non-null  float64\n",
            " 6   Gender                15832 non-null  int64  \n",
            " 7   Age                   15832 non-null  float64\n",
            " 8   Offline               15832 non-null  uint8  \n",
            " 9   Online                15832 non-null  uint8  \n",
            " 10  Airlines              15832 non-null  uint8  \n",
            " 11  Travel Agency         15832 non-null  uint8  \n",
            "dtypes: float64(4), int64(1), object(3), uint8(4)\n",
            "memory usage: 1.0+ MB\n"
          ],
          "name": "stdout"
        }
      ]
    },
    {
      "cell_type": "code",
      "metadata": {
        "id": "_u_U57nMznmb"
      },
      "source": [
        "updated_test_data = test_data.drop(columns = [\"Agency\", \"Product Name\", \"Destination\"])"
      ],
      "execution_count": null,
      "outputs": []
    },
    {
      "cell_type": "code",
      "metadata": {
        "colab": {
          "base_uri": "https://localhost:8080/"
        },
        "id": "c_ZAUSkOznmc",
        "outputId": "72ecab33-9fe7-4611-c9f7-2ff336f62846"
      },
      "source": [
        "updated_test_data.info()"
      ],
      "execution_count": null,
      "outputs": [
        {
          "output_type": "stream",
          "text": [
            "<class 'pandas.core.frame.DataFrame'>\n",
            "RangeIndex: 15832 entries, 0 to 15831\n",
            "Data columns (total 9 columns):\n",
            " #   Column                Non-Null Count  Dtype  \n",
            "---  ------                --------------  -----  \n",
            " 0   Duration              15832 non-null  float64\n",
            " 1   Net Sales             15832 non-null  float64\n",
            " 2   Commision (in value)  15832 non-null  float64\n",
            " 3   Gender                15832 non-null  int64  \n",
            " 4   Age                   15832 non-null  float64\n",
            " 5   Offline               15832 non-null  uint8  \n",
            " 6   Online                15832 non-null  uint8  \n",
            " 7   Airlines              15832 non-null  uint8  \n",
            " 8   Travel Agency         15832 non-null  uint8  \n",
            "dtypes: float64(4), int64(1), uint8(4)\n",
            "memory usage: 680.4 KB\n"
          ],
          "name": "stdout"
        }
      ]
    },
    {
      "cell_type": "code",
      "metadata": {
        "id": "GoFkaM_zznmc"
      },
      "source": [
        "target = model_ann.predict(updated_test_data) > 0.5"
      ],
      "execution_count": null,
      "outputs": []
    },
    {
      "cell_type": "code",
      "metadata": {
        "id": "WjcLiuSYznmd"
      },
      "source": [
        "res = pd.DataFrame(target.round()) #preditcions are nothing but the final predictions of your model on input features of your new unseen test data\n",
        "res.index = updated_test_data.index # its important for comparison. Here \"test_new\" is your new test dataset\n",
        "res.columns = [\"prediction\"]\n",
        "res.to_csv(\"prediction_results.csv\", index = False)"
      ],
      "execution_count": null,
      "outputs": []
    },
    {
      "cell_type": "code",
      "metadata": {
        "colab": {
          "base_uri": "https://localhost:8080/",
          "height": 17
        },
        "id": "qRELEy2Lznmd",
        "outputId": "b40e7430-c369-4d1c-d273-0fc098ba4d08"
      },
      "source": [
        "res = pd.DataFrame(target) #preditcions are nothing but the final predictions of your model on input features of your new unseen test data\r\n",
        "res.index = updated_test_data.index # its important for comparison. Here \"test_new\" is your new test dataset\r\n",
        "res.columns = [\"prediction\"]\r\n",
        "\r\n",
        "# To download the csv file locally\r\n",
        "from google.colab import files\r\n",
        "res.to_csv('prediction_results.csv')         \r\n",
        "files.download('prediction_results.csv')"
      ],
      "execution_count": null,
      "outputs": [
        {
          "output_type": "display_data",
          "data": {
            "application/javascript": [
              "\n",
              "    async function download(id, filename, size) {\n",
              "      if (!google.colab.kernel.accessAllowed) {\n",
              "        return;\n",
              "      }\n",
              "      const div = document.createElement('div');\n",
              "      const label = document.createElement('label');\n",
              "      label.textContent = `Downloading \"${filename}\": `;\n",
              "      div.appendChild(label);\n",
              "      const progress = document.createElement('progress');\n",
              "      progress.max = size;\n",
              "      div.appendChild(progress);\n",
              "      document.body.appendChild(div);\n",
              "\n",
              "      const buffers = [];\n",
              "      let downloaded = 0;\n",
              "\n",
              "      const channel = await google.colab.kernel.comms.open(id);\n",
              "      // Send a message to notify the kernel that we're ready.\n",
              "      channel.send({})\n",
              "\n",
              "      for await (const message of channel.messages) {\n",
              "        // Send a message to notify the kernel that we're ready.\n",
              "        channel.send({})\n",
              "        if (message.buffers) {\n",
              "          for (const buffer of message.buffers) {\n",
              "            buffers.push(buffer);\n",
              "            downloaded += buffer.byteLength;\n",
              "            progress.value = downloaded;\n",
              "          }\n",
              "        }\n",
              "      }\n",
              "      const blob = new Blob(buffers, {type: 'application/binary'});\n",
              "      const a = document.createElement('a');\n",
              "      a.href = window.URL.createObjectURL(blob);\n",
              "      a.download = filename;\n",
              "      div.appendChild(a);\n",
              "      a.click();\n",
              "      div.remove();\n",
              "    }\n",
              "  "
            ],
            "text/plain": [
              "<IPython.core.display.Javascript object>"
            ]
          },
          "metadata": {
            "tags": []
          }
        },
        {
          "output_type": "display_data",
          "data": {
            "application/javascript": [
              "download(\"download_108282c1-4043-4e36-875e-a558960f2a17\", \"prediction_results.csv\", 176196)"
            ],
            "text/plain": [
              "<IPython.core.display.Javascript object>"
            ]
          },
          "metadata": {
            "tags": []
          }
        }
      ]
    },
    {
      "cell_type": "code",
      "metadata": {
        "id": "dzx6pMvJ5hAz"
      },
      "source": [
        ""
      ],
      "execution_count": null,
      "outputs": []
    }
  ]
}